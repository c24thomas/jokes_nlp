{
 "cells": [
  {
   "cell_type": "code",
   "execution_count": null,
   "metadata": {},
   "outputs": [],
   "source": []
  },
  {
   "cell_type": "code",
   "execution_count": null,
   "metadata": {},
   "outputs": [],
   "source": []
  },
  {
   "cell_type": "markdown",
   "metadata": {},
   "source": [
    "# Problem Statement"
   ]
  },
  {
   "cell_type": "markdown",
   "metadata": {},
   "source": [
    "I was hired by ***greeting card company*** to classify whether or not a joke is a 'dad-joke'. Father's day is approaching; the company wants to run a dad-joke-based ad campaign. No one can agree on what consititutes a *dad-joke*. So, the goal of this project is to properly classify jokes as either 'dad-jokes' or 'standard jokes'."
   ]
  },
  {
   "cell_type": "code",
   "execution_count": 1,
   "metadata": {
    "ExecuteTime": {
     "end_time": "2021-04-30T19:09:34.471908Z",
     "start_time": "2021-04-30T19:09:33.262658Z"
    }
   },
   "outputs": [],
   "source": [
    "import pandas as pd\n",
    "import numpy as np\n",
    "import matplotlib.pyplot as plt\n",
    "from sklearn.model_selection import train_test_split, GridSearchCV, RandomizedSearchCV\n",
    "from sklearn.pipeline import Pipeline\n",
    "from sklearn.naive_bayes import MultinomialNB\n",
    "from sklearn.linear_model import LogisticRegression\n",
    "from sklearn.metrics import confusion_matrix, plot_confusion_matrix, accuracy_score\n",
    "from sklearn.feature_extraction.text import CountVectorizer, TfidfVectorizer\n",
    "from sklearn.neighbors import KNeighborsClassifier\n",
    "from sklearn.ensemble import RandomForestClassifier, ExtraTreesClassifier\n",
    "from xgboost import XGBClassifier\n",
    "from sklearn.svm import SVC\n"
   ]
  },
  {
   "cell_type": "markdown",
   "metadata": {},
   "source": [
    "Start by reading in the data:"
   ]
  },
  {
   "cell_type": "code",
   "execution_count": 3,
   "metadata": {
    "ExecuteTime": {
     "end_time": "2021-04-30T19:11:54.721378Z",
     "start_time": "2021-04-30T19:11:54.679713Z"
    }
   },
   "outputs": [],
   "source": [
    "df = pd.read_csv('./data/full.csv')"
   ]
  },
  {
   "cell_type": "code",
   "execution_count": 4,
   "metadata": {
    "ExecuteTime": {
     "end_time": "2021-04-30T19:11:54.874990Z",
     "start_time": "2021-04-30T19:11:54.863118Z"
    }
   },
   "outputs": [
    {
     "data": {
      "text/html": [
       "<div>\n",
       "<style scoped>\n",
       "    .dataframe tbody tr th:only-of-type {\n",
       "        vertical-align: middle;\n",
       "    }\n",
       "\n",
       "    .dataframe tbody tr th {\n",
       "        vertical-align: top;\n",
       "    }\n",
       "\n",
       "    .dataframe thead th {\n",
       "        text-align: right;\n",
       "    }\n",
       "</style>\n",
       "<table border=\"1\" class=\"dataframe\">\n",
       "  <thead>\n",
       "    <tr style=\"text-align: right;\">\n",
       "      <th></th>\n",
       "      <th>post</th>\n",
       "      <th>is_jokes</th>\n",
       "    </tr>\n",
       "  </thead>\n",
       "  <tbody>\n",
       "    <tr>\n",
       "      <th>0</th>\n",
       "      <td>A well-known professor of language, was caught...</td>\n",
       "      <td>1</td>\n",
       "    </tr>\n",
       "    <tr>\n",
       "      <th>1</th>\n",
       "      <td>I'm quite a normal person, I'm very good frien...</td>\n",
       "      <td>1</td>\n",
       "    </tr>\n",
       "    <tr>\n",
       "      <th>2</th>\n",
       "      <td>How does a gypsy soccer match end? Without goals.</td>\n",
       "      <td>1</td>\n",
       "    </tr>\n",
       "    <tr>\n",
       "      <th>3</th>\n",
       "      <td>A granddaughters questions The first time our ...</td>\n",
       "      <td>1</td>\n",
       "    </tr>\n",
       "    <tr>\n",
       "      <th>4</th>\n",
       "      <td>What did the loaf of sourdough bread day to th...</td>\n",
       "      <td>1</td>\n",
       "    </tr>\n",
       "  </tbody>\n",
       "</table>\n",
       "</div>"
      ],
      "text/plain": [
       "                                                post  is_jokes\n",
       "0  A well-known professor of language, was caught...         1\n",
       "1  I'm quite a normal person, I'm very good frien...         1\n",
       "2  How does a gypsy soccer match end? Without goals.         1\n",
       "3  A granddaughters questions The first time our ...         1\n",
       "4  What did the loaf of sourdough bread day to th...         1"
      ]
     },
     "execution_count": 4,
     "metadata": {},
     "output_type": "execute_result"
    }
   ],
   "source": [
    "df.head()"
   ]
  },
  {
   "cell_type": "markdown",
   "metadata": {},
   "source": [
    "I somehow ended up with null values after cleaning, so I just dropped them."
   ]
  },
  {
   "cell_type": "code",
   "execution_count": 5,
   "metadata": {
    "ExecuteTime": {
     "end_time": "2021-04-30T19:11:55.136792Z",
     "start_time": "2021-04-30T19:11:55.123872Z"
    }
   },
   "outputs": [
    {
     "data": {
      "text/plain": [
       "post        156\n",
       "is_jokes      0\n",
       "dtype: int64"
      ]
     },
     "execution_count": 5,
     "metadata": {},
     "output_type": "execute_result"
    }
   ],
   "source": [
    "df.isna().sum()"
   ]
  },
  {
   "cell_type": "code",
   "execution_count": 6,
   "metadata": {
    "ExecuteTime": {
     "end_time": "2021-04-30T19:11:55.275653Z",
     "start_time": "2021-04-30T19:11:55.259253Z"
    }
   },
   "outputs": [],
   "source": [
    "df.dropna(inplace=True)"
   ]
  },
  {
   "cell_type": "code",
   "execution_count": 7,
   "metadata": {
    "ExecuteTime": {
     "end_time": "2021-04-30T19:11:55.414074Z",
     "start_time": "2021-04-30T19:11:55.402170Z"
    }
   },
   "outputs": [
    {
     "data": {
      "text/plain": [
       "post        0\n",
       "is_jokes    0\n",
       "dtype: int64"
      ]
     },
     "execution_count": 7,
     "metadata": {},
     "output_type": "execute_result"
    }
   ],
   "source": [
    "df.isna().sum()"
   ]
  },
  {
   "cell_type": "code",
   "execution_count": 8,
   "metadata": {
    "ExecuteTime": {
     "end_time": "2021-04-30T19:11:55.537213Z",
     "start_time": "2021-04-30T19:11:55.532229Z"
    }
   },
   "outputs": [
    {
     "data": {
      "text/html": [
       "<div>\n",
       "<style scoped>\n",
       "    .dataframe tbody tr th:only-of-type {\n",
       "        vertical-align: middle;\n",
       "    }\n",
       "\n",
       "    .dataframe tbody tr th {\n",
       "        vertical-align: top;\n",
       "    }\n",
       "\n",
       "    .dataframe thead th {\n",
       "        text-align: right;\n",
       "    }\n",
       "</style>\n",
       "<table border=\"1\" class=\"dataframe\">\n",
       "  <thead>\n",
       "    <tr style=\"text-align: right;\">\n",
       "      <th></th>\n",
       "      <th>post</th>\n",
       "      <th>is_jokes</th>\n",
       "    </tr>\n",
       "  </thead>\n",
       "  <tbody>\n",
       "    <tr>\n",
       "      <th>0</th>\n",
       "      <td>A well-known professor of language, was caught...</td>\n",
       "      <td>1</td>\n",
       "    </tr>\n",
       "    <tr>\n",
       "      <th>1</th>\n",
       "      <td>I'm quite a normal person, I'm very good frien...</td>\n",
       "      <td>1</td>\n",
       "    </tr>\n",
       "    <tr>\n",
       "      <th>2</th>\n",
       "      <td>How does a gypsy soccer match end? Without goals.</td>\n",
       "      <td>1</td>\n",
       "    </tr>\n",
       "    <tr>\n",
       "      <th>3</th>\n",
       "      <td>A granddaughters questions The first time our ...</td>\n",
       "      <td>1</td>\n",
       "    </tr>\n",
       "    <tr>\n",
       "      <th>4</th>\n",
       "      <td>What did the loaf of sourdough bread day to th...</td>\n",
       "      <td>1</td>\n",
       "    </tr>\n",
       "  </tbody>\n",
       "</table>\n",
       "</div>"
      ],
      "text/plain": [
       "                                                post  is_jokes\n",
       "0  A well-known professor of language, was caught...         1\n",
       "1  I'm quite a normal person, I'm very good frien...         1\n",
       "2  How does a gypsy soccer match end? Without goals.         1\n",
       "3  A granddaughters questions The first time our ...         1\n",
       "4  What did the loaf of sourdough bread day to th...         1"
      ]
     },
     "execution_count": 8,
     "metadata": {},
     "output_type": "execute_result"
    }
   ],
   "source": [
    "df.head()"
   ]
  },
  {
   "cell_type": "code",
   "execution_count": null,
   "metadata": {},
   "outputs": [],
   "source": []
  },
  {
   "cell_type": "code",
   "execution_count": null,
   "metadata": {},
   "outputs": [],
   "source": []
  },
  {
   "cell_type": "code",
   "execution_count": null,
   "metadata": {},
   "outputs": [],
   "source": []
  },
  {
   "cell_type": "markdown",
   "metadata": {},
   "source": [
    "Here we define our null model accuracy of 51% (the majority class)"
   ]
  },
  {
   "cell_type": "code",
   "execution_count": 8,
   "metadata": {
    "ExecuteTime": {
     "end_time": "2021-04-29T20:56:15.543360Z",
     "start_time": "2021-04-29T20:56:15.529968Z"
    }
   },
   "outputs": [
    {
     "data": {
      "text/plain": [
       "1    0.510128\n",
       "0    0.489872\n",
       "Name: is_jokes, dtype: float64"
      ]
     },
     "execution_count": 8,
     "metadata": {},
     "output_type": "execute_result"
    }
   ],
   "source": [
    "df.is_jokes.value_counts(normalize=True)"
   ]
  },
  {
   "cell_type": "code",
   "execution_count": 9,
   "metadata": {
    "ExecuteTime": {
     "end_time": "2021-04-30T19:12:00.401313Z",
     "start_time": "2021-04-30T19:12:00.397345Z"
    }
   },
   "outputs": [],
   "source": [
    "cvec = CountVectorizer(stop_words='english')"
   ]
  },
  {
   "cell_type": "code",
   "execution_count": 10,
   "metadata": {
    "ExecuteTime": {
     "end_time": "2021-04-30T19:12:00.709113Z",
     "start_time": "2021-04-30T19:12:00.694729Z"
    }
   },
   "outputs": [],
   "source": [
    "X = df.post\n",
    "y = df.is_jokes"
   ]
  },
  {
   "cell_type": "markdown",
   "metadata": {},
   "source": [
    "Train/test splitting, stratified on $y$, with standard split of 75/25"
   ]
  },
  {
   "cell_type": "code",
   "execution_count": 11,
   "metadata": {
    "ExecuteTime": {
     "end_time": "2021-04-30T19:12:01.664215Z",
     "start_time": "2021-04-30T19:12:01.650327Z"
    }
   },
   "outputs": [],
   "source": [
    "X_train, X_test, y_train, y_test = train_test_split(X, y, stratify=y, random_state=6)"
   ]
  },
  {
   "cell_type": "code",
   "execution_count": 12,
   "metadata": {
    "ExecuteTime": {
     "end_time": "2021-04-30T19:12:02.511713Z",
     "start_time": "2021-04-30T19:12:02.278664Z"
    }
   },
   "outputs": [],
   "source": [
    "Xcv_train = cvec.fit_transform(X_train)\n",
    "Xcv_test = cvec.transform(X_test)"
   ]
  },
  {
   "cell_type": "code",
   "execution_count": 13,
   "metadata": {
    "ExecuteTime": {
     "end_time": "2021-04-30T19:12:03.526161Z",
     "start_time": "2021-04-30T19:12:03.431164Z"
    }
   },
   "outputs": [],
   "source": [
    "Xcv_df = pd.DataFrame(Xcv_train.todense(), columns=cvec.get_feature_names())"
   ]
  },
  {
   "cell_type": "code",
   "execution_count": 14,
   "metadata": {
    "ExecuteTime": {
     "end_time": "2021-04-30T19:12:05.479880Z",
     "start_time": "2021-04-30T19:12:05.456564Z"
    }
   },
   "outputs": [
    {
     "data": {
      "text/html": [
       "<div>\n",
       "<style scoped>\n",
       "    .dataframe tbody tr th:only-of-type {\n",
       "        vertical-align: middle;\n",
       "    }\n",
       "\n",
       "    .dataframe tbody tr th {\n",
       "        vertical-align: top;\n",
       "    }\n",
       "\n",
       "    .dataframe thead th {\n",
       "        text-align: right;\n",
       "    }\n",
       "</style>\n",
       "<table border=\"1\" class=\"dataframe\">\n",
       "  <thead>\n",
       "    <tr style=\"text-align: right;\">\n",
       "      <th></th>\n",
       "      <th>00</th>\n",
       "      <th>000</th>\n",
       "      <th>0038</th>\n",
       "      <th>00am</th>\n",
       "      <th>01</th>\n",
       "      <th>01am</th>\n",
       "      <th>02</th>\n",
       "      <th>05</th>\n",
       "      <th>07</th>\n",
       "      <th>0k</th>\n",
       "      <th>...</th>\n",
       "      <th>себя</th>\n",
       "      <th>странно</th>\n",
       "      <th>уши</th>\n",
       "      <th>что</th>\n",
       "      <th>чувствую</th>\n",
       "      <th>הזה</th>\n",
       "      <th>הצליח</th>\n",
       "      <th>הקפה</th>\n",
       "      <th>מי</th>\n",
       "      <th>נחמד</th>\n",
       "    </tr>\n",
       "  </thead>\n",
       "  <tbody>\n",
       "    <tr>\n",
       "      <th>0</th>\n",
       "      <td>0</td>\n",
       "      <td>0</td>\n",
       "      <td>0</td>\n",
       "      <td>0</td>\n",
       "      <td>0</td>\n",
       "      <td>0</td>\n",
       "      <td>0</td>\n",
       "      <td>0</td>\n",
       "      <td>0</td>\n",
       "      <td>0</td>\n",
       "      <td>...</td>\n",
       "      <td>0</td>\n",
       "      <td>0</td>\n",
       "      <td>0</td>\n",
       "      <td>0</td>\n",
       "      <td>0</td>\n",
       "      <td>0</td>\n",
       "      <td>0</td>\n",
       "      <td>0</td>\n",
       "      <td>0</td>\n",
       "      <td>0</td>\n",
       "    </tr>\n",
       "    <tr>\n",
       "      <th>1</th>\n",
       "      <td>0</td>\n",
       "      <td>0</td>\n",
       "      <td>0</td>\n",
       "      <td>0</td>\n",
       "      <td>0</td>\n",
       "      <td>0</td>\n",
       "      <td>0</td>\n",
       "      <td>0</td>\n",
       "      <td>0</td>\n",
       "      <td>0</td>\n",
       "      <td>...</td>\n",
       "      <td>0</td>\n",
       "      <td>0</td>\n",
       "      <td>0</td>\n",
       "      <td>0</td>\n",
       "      <td>0</td>\n",
       "      <td>0</td>\n",
       "      <td>0</td>\n",
       "      <td>0</td>\n",
       "      <td>0</td>\n",
       "      <td>0</td>\n",
       "    </tr>\n",
       "    <tr>\n",
       "      <th>2</th>\n",
       "      <td>0</td>\n",
       "      <td>0</td>\n",
       "      <td>0</td>\n",
       "      <td>0</td>\n",
       "      <td>0</td>\n",
       "      <td>0</td>\n",
       "      <td>0</td>\n",
       "      <td>0</td>\n",
       "      <td>0</td>\n",
       "      <td>0</td>\n",
       "      <td>...</td>\n",
       "      <td>0</td>\n",
       "      <td>0</td>\n",
       "      <td>0</td>\n",
       "      <td>0</td>\n",
       "      <td>0</td>\n",
       "      <td>0</td>\n",
       "      <td>0</td>\n",
       "      <td>0</td>\n",
       "      <td>0</td>\n",
       "      <td>0</td>\n",
       "    </tr>\n",
       "    <tr>\n",
       "      <th>3</th>\n",
       "      <td>0</td>\n",
       "      <td>0</td>\n",
       "      <td>0</td>\n",
       "      <td>0</td>\n",
       "      <td>0</td>\n",
       "      <td>0</td>\n",
       "      <td>0</td>\n",
       "      <td>0</td>\n",
       "      <td>0</td>\n",
       "      <td>0</td>\n",
       "      <td>...</td>\n",
       "      <td>0</td>\n",
       "      <td>0</td>\n",
       "      <td>0</td>\n",
       "      <td>0</td>\n",
       "      <td>0</td>\n",
       "      <td>0</td>\n",
       "      <td>0</td>\n",
       "      <td>0</td>\n",
       "      <td>0</td>\n",
       "      <td>0</td>\n",
       "    </tr>\n",
       "    <tr>\n",
       "      <th>4</th>\n",
       "      <td>0</td>\n",
       "      <td>1</td>\n",
       "      <td>0</td>\n",
       "      <td>0</td>\n",
       "      <td>0</td>\n",
       "      <td>0</td>\n",
       "      <td>0</td>\n",
       "      <td>0</td>\n",
       "      <td>0</td>\n",
       "      <td>0</td>\n",
       "      <td>...</td>\n",
       "      <td>0</td>\n",
       "      <td>0</td>\n",
       "      <td>0</td>\n",
       "      <td>0</td>\n",
       "      <td>0</td>\n",
       "      <td>0</td>\n",
       "      <td>0</td>\n",
       "      <td>0</td>\n",
       "      <td>0</td>\n",
       "      <td>0</td>\n",
       "    </tr>\n",
       "  </tbody>\n",
       "</table>\n",
       "<p>5 rows × 17392 columns</p>\n",
       "</div>"
      ],
      "text/plain": [
       "   00  000  0038  00am  01  01am  02  05  07  0k  ...  себя  странно  уши  \\\n",
       "0   0    0     0     0   0     0   0   0   0   0  ...     0        0    0   \n",
       "1   0    0     0     0   0     0   0   0   0   0  ...     0        0    0   \n",
       "2   0    0     0     0   0     0   0   0   0   0  ...     0        0    0   \n",
       "3   0    0     0     0   0     0   0   0   0   0  ...     0        0    0   \n",
       "4   0    1     0     0   0     0   0   0   0   0  ...     0        0    0   \n",
       "\n",
       "   что  чувствую  הזה  הצליח  הקפה  מי  נחמד  \n",
       "0    0         0    0      0     0   0     0  \n",
       "1    0         0    0      0     0   0     0  \n",
       "2    0         0    0      0     0   0     0  \n",
       "3    0         0    0      0     0   0     0  \n",
       "4    0         0    0      0     0   0     0  \n",
       "\n",
       "[5 rows x 17392 columns]"
      ]
     },
     "execution_count": 14,
     "metadata": {},
     "output_type": "execute_result"
    }
   ],
   "source": [
    "Xcv_df.head()"
   ]
  },
  {
   "cell_type": "markdown",
   "metadata": {},
   "source": [
    "Here we have the 25 most common words from our vectorized corpus:"
   ]
  },
  {
   "cell_type": "code",
   "execution_count": 16,
   "metadata": {
    "ExecuteTime": {
     "end_time": "2021-04-30T19:12:13.100890Z",
     "start_time": "2021-04-30T19:12:12.763275Z"
    }
   },
   "outputs": [
    {
     "data": {
      "image/png": "[encoded data removed]",
      "text/plain": [
       "<Figure size 720x576 with 1 Axes>"
      ]
     },
     "metadata": {
      "needs_background": "light"
     },
     "output_type": "display_data"
    }
   ],
   "source": [
    "plt.figure(figsize=(10,8))\n",
    "plt.title('Highest frequency words'.title(), fontdict={'fontsize': 16})\n",
    "plt.xlabel('Count')\n",
    "plt.ylabel('Most Frequent Words')\n",
    "Xcv_df.sum().sort_values(ascending=False).head(25).plot(kind='barh');"
   ]
  },
  {
   "cell_type": "code",
   "execution_count": 16,
   "metadata": {
    "ExecuteTime": {
     "end_time": "2021-04-29T20:56:16.634631Z",
     "start_time": "2021-04-29T20:56:16.620931Z"
    }
   },
   "outputs": [
    {
     "data": {
      "text/plain": [
       "(9256, 17392)"
      ]
     },
     "execution_count": 16,
     "metadata": {},
     "output_type": "execute_result"
    }
   ],
   "source": [
    "Xcv_train.shape"
   ]
  },
  {
   "cell_type": "markdown",
   "metadata": {},
   "source": [
    "Grid searching over Logistic Regression hyperparameters with standard CountVectorizer:"
   ]
  },
  {
   "cell_type": "code",
   "execution_count": 17,
   "metadata": {
    "ExecuteTime": {
     "end_time": "2021-04-29T20:56:16.650194Z",
     "start_time": "2021-04-29T20:56:16.635810Z"
    }
   },
   "outputs": [],
   "source": [
    "params = {\n",
    "    'penalty': ['l1', 'l2', 'elasticnet', 'none'],\n",
    "    'solver': ['liblinear'],\n",
    "    'C': np.linspace(0, 1, 100),\n",
    "    'class_weight': ['balanced', None],\n",
    "}"
   ]
  },
  {
   "cell_type": "code",
   "execution_count": 18,
   "metadata": {
    "ExecuteTime": {
     "end_time": "2021-04-29T20:56:16.665596Z",
     "start_time": "2021-04-29T20:56:16.651682Z"
    }
   },
   "outputs": [],
   "source": [
    "gs = GridSearchCV(LogisticRegression(), param_grid=params, n_jobs=-1, verbose=1)"
   ]
  },
  {
   "cell_type": "code",
   "execution_count": 19,
   "metadata": {
    "ExecuteTime": {
     "end_time": "2021-04-29T20:56:40.513760Z",
     "start_time": "2021-04-29T20:56:16.667070Z"
    }
   },
   "outputs": [
    {
     "name": "stdout",
     "output_type": "stream",
     "text": [
      "Fitting 5 folds for each of 800 candidates, totalling 4000 fits\n"
     ]
    },
    {
     "name": "stderr",
     "output_type": "stream",
     "text": [
      "[Parallel(n_jobs=-1)]: Using backend LokyBackend with 16 concurrent workers.\n",
      "[Parallel(n_jobs=-1)]: Done  18 tasks      | elapsed:    2.4s\n",
      "[Parallel(n_jobs=-1)]: Done 352 tasks      | elapsed:    3.5s\n",
      "[Parallel(n_jobs=-1)]: Done 2352 tasks      | elapsed:   13.5s\n",
      "[Parallel(n_jobs=-1)]: Done 4000 out of 4000 | elapsed:   23.7s finished\n"
     ]
    },
    {
     "data": {
      "text/plain": [
       "GridSearchCV(estimator=LogisticRegression(), n_jobs=-1,\n",
       "             param_grid={'C': array([0.        , 0.01010101, 0.02020202, 0.03030303, 0.04040404,\n",
       "       0.05050505, 0.06060606, 0.07070707, 0.08080808, 0.09090909,\n",
       "       0.1010101 , 0.11111111, 0.12121212, 0.13131313, 0.14141414,\n",
       "       0.15151515, 0.16161616, 0.17171717, 0.18181818, 0.19191919,\n",
       "       0.2020202 , 0.21212121, 0.22222222, 0.23232323, 0.24242424,\n",
       "       0.252525...\n",
       "       0.75757576, 0.76767677, 0.77777778, 0.78787879, 0.7979798 ,\n",
       "       0.80808081, 0.81818182, 0.82828283, 0.83838384, 0.84848485,\n",
       "       0.85858586, 0.86868687, 0.87878788, 0.88888889, 0.8989899 ,\n",
       "       0.90909091, 0.91919192, 0.92929293, 0.93939394, 0.94949495,\n",
       "       0.95959596, 0.96969697, 0.97979798, 0.98989899, 1.        ]),\n",
       "                         'class_weight': ['balanced', None],\n",
       "                         'penalty': ['l1', 'l2', 'elasticnet', 'none'],\n",
       "                         'solver': ['liblinear']},\n",
       "             verbose=1)"
      ]
     },
     "execution_count": 19,
     "metadata": {},
     "output_type": "execute_result"
    }
   ],
   "source": [
    "gs.fit(Xcv_train, y_train)"
   ]
  },
  {
   "cell_type": "code",
   "execution_count": 20,
   "metadata": {
    "ExecuteTime": {
     "end_time": "2021-04-29T20:56:40.529160Z",
     "start_time": "2021-04-29T20:56:40.515248Z"
    }
   },
   "outputs": [
    {
     "data": {
      "text/plain": [
       "(0.7371434745030251, 0.6458198314970836)"
      ]
     },
     "execution_count": 20,
     "metadata": {},
     "output_type": "execute_result"
    }
   ],
   "source": [
    "gs.score(Xcv_train, y_train), gs.score(Xcv_test, y_test)"
   ]
  },
  {
   "cell_type": "markdown",
   "metadata": {},
   "source": [
    "Grid Searching over CountVectorizer and LogisticRegression:"
   ]
  },
  {
   "cell_type": "code",
   "execution_count": 21,
   "metadata": {
    "ExecuteTime": {
     "end_time": "2021-04-29T20:56:40.544512Z",
     "start_time": "2021-04-29T20:56:40.530623Z"
    }
   },
   "outputs": [],
   "source": [
    "pipe = Pipeline([\n",
    "    ('cvec', CountVectorizer()),\n",
    "    ('lr', LogisticRegression())\n",
    "])"
   ]
  },
  {
   "cell_type": "code",
   "execution_count": 22,
   "metadata": {
    "ExecuteTime": {
     "end_time": "2021-04-29T20:56:40.559887Z",
     "start_time": "2021-04-29T20:56:40.547985Z"
    }
   },
   "outputs": [],
   "source": [
    "pparams = {\n",
    "    'cvec__max_features': [5000, 6500, 8000, 9500],\n",
    "    'cvec__min_df': [1, 2, 3],\n",
    "    'cvec__max_df': [.9, .95],\n",
    "    'cvec__ngram_range': [(1,1), (1,2), (1,3)],\n",
    "    'lr__penalty': ['l1', 'l2', 'none'],\n",
    "    'lr__solver': ['liblinear'],\n",
    "    'lr__C': np.linspace(0, 1, 20),\n",
    "    'lr__class_weight': ['balanced', None]\n",
    "}"
   ]
  },
  {
   "cell_type": "code",
   "execution_count": 23,
   "metadata": {
    "ExecuteTime": {
     "end_time": "2021-04-29T20:56:40.575263Z",
     "start_time": "2021-04-29T20:56:40.563856Z"
    }
   },
   "outputs": [],
   "source": [
    "gs2 = GridSearchCV(pipe, param_grid=pparams, n_jobs=-1, verbose=1)"
   ]
  },
  {
   "cell_type": "code",
   "execution_count": 24,
   "metadata": {
    "ExecuteTime": {
     "end_time": "2021-04-29T22:03:27.961963Z",
     "start_time": "2021-04-29T20:56:40.576752Z"
    }
   },
   "outputs": [
    {
     "name": "stderr",
     "output_type": "stream",
     "text": [
      "[Parallel(n_jobs=-1)]: Using backend LokyBackend with 16 concurrent workers.\n"
     ]
    },
    {
     "name": "stdout",
     "output_type": "stream",
     "text": [
      "Fitting 5 folds for each of 8640 candidates, totalling 43200 fits\n"
     ]
    },
    {
     "name": "stderr",
     "output_type": "stream",
     "text": [
      "[Parallel(n_jobs=-1)]: Done  18 tasks      | elapsed:    0.6s\n",
      "[Parallel(n_jobs=-1)]: Done 168 tasks      | elapsed:    4.8s\n",
      "[Parallel(n_jobs=-1)]: Done 418 tasks      | elapsed:   12.4s\n",
      "[Parallel(n_jobs=-1)]: Done 768 tasks      | elapsed:   32.2s\n",
      "[Parallel(n_jobs=-1)]: Done 1218 tasks      | elapsed:  1.2min\n",
      "[Parallel(n_jobs=-1)]: Done 1768 tasks      | elapsed:  2.6min\n",
      "[Parallel(n_jobs=-1)]: Done 2418 tasks      | elapsed:  3.1min\n",
      "[Parallel(n_jobs=-1)]: Done 3168 tasks      | elapsed:  4.3min\n",
      "[Parallel(n_jobs=-1)]: Done 4018 tasks      | elapsed:  5.7min\n",
      "[Parallel(n_jobs=-1)]: Done 4968 tasks      | elapsed:  7.1min\n",
      "[Parallel(n_jobs=-1)]: Done 6018 tasks      | elapsed:  8.5min\n",
      "[Parallel(n_jobs=-1)]: Done 7168 tasks      | elapsed: 10.9min\n",
      "[Parallel(n_jobs=-1)]: Done 8418 tasks      | elapsed: 12.2min\n",
      "[Parallel(n_jobs=-1)]: Done 9768 tasks      | elapsed: 14.3min\n",
      "[Parallel(n_jobs=-1)]: Done 11218 tasks      | elapsed: 16.7min\n",
      "[Parallel(n_jobs=-1)]: Done 12768 tasks      | elapsed: 19.3min\n",
      "[Parallel(n_jobs=-1)]: Done 14418 tasks      | elapsed: 22.1min\n",
      "[Parallel(n_jobs=-1)]: Done 16168 tasks      | elapsed: 25.0min\n",
      "[Parallel(n_jobs=-1)]: Done 18018 tasks      | elapsed: 27.9min\n",
      "[Parallel(n_jobs=-1)]: Done 19968 tasks      | elapsed: 30.7min\n",
      "[Parallel(n_jobs=-1)]: Done 22018 tasks      | elapsed: 33.6min\n",
      "[Parallel(n_jobs=-1)]: Done 24168 tasks      | elapsed: 36.7min\n",
      "[Parallel(n_jobs=-1)]: Done 26418 tasks      | elapsed: 40.1min\n",
      "[Parallel(n_jobs=-1)]: Done 28768 tasks      | elapsed: 44.4min\n",
      "[Parallel(n_jobs=-1)]: Done 31218 tasks      | elapsed: 47.6min\n",
      "[Parallel(n_jobs=-1)]: Done 33768 tasks      | elapsed: 51.7min\n",
      "[Parallel(n_jobs=-1)]: Done 36418 tasks      | elapsed: 55.9min\n",
      "[Parallel(n_jobs=-1)]: Done 39168 tasks      | elapsed: 60.0min\n",
      "[Parallel(n_jobs=-1)]: Done 42018 tasks      | elapsed: 64.3min\n",
      "[Parallel(n_jobs=-1)]: Done 43200 out of 43200 | elapsed: 66.8min finished\n"
     ]
    },
    {
     "data": {
      "text/plain": [
       "GridSearchCV(estimator=Pipeline(steps=[('cvec', CountVectorizer()),\n",
       "                                       ('lr', LogisticRegression())]),\n",
       "             n_jobs=-1,\n",
       "             param_grid={'cvec__max_df': [0.9, 0.95],\n",
       "                         'cvec__max_features': [5000, 6500, 8000, 9500],\n",
       "                         'cvec__min_df': [1, 2, 3],\n",
       "                         'cvec__ngram_range': [(1, 1), (1, 2), (1, 3)],\n",
       "                         'lr__C': array([0.        , 0.05263158, 0.10526316, 0.15789474, 0.21052632,\n",
       "       0.26315789, 0.31578947, 0.36842105, 0.42105263, 0.47368421,\n",
       "       0.52631579, 0.57894737, 0.63157895, 0.68421053, 0.73684211,\n",
       "       0.78947368, 0.84210526, 0.89473684, 0.94736842, 1.        ]),\n",
       "                         'lr__class_weight': ['balanced', None],\n",
       "                         'lr__penalty': ['l1', 'l2', 'none'],\n",
       "                         'lr__solver': ['liblinear']},\n",
       "             verbose=1)"
      ]
     },
     "execution_count": 24,
     "metadata": {},
     "output_type": "execute_result"
    }
   ],
   "source": [
    "gs2.fit(X_train, y_train)"
   ]
  },
  {
   "cell_type": "code",
   "execution_count": 25,
   "metadata": {
    "ExecuteTime": {
     "end_time": "2021-04-29T22:03:27.977338Z",
     "start_time": "2021-04-29T22:03:27.963947Z"
    }
   },
   "outputs": [
    {
     "data": {
      "text/plain": [
       "{'cvec__max_df': 0.9,\n",
       " 'cvec__max_features': 9500,\n",
       " 'cvec__min_df': 3,\n",
       " 'cvec__ngram_range': (1, 2),\n",
       " 'lr__C': 0.05263157894736842,\n",
       " 'lr__class_weight': 'balanced',\n",
       " 'lr__penalty': 'l2',\n",
       " 'lr__solver': 'liblinear'}"
      ]
     },
     "execution_count": 25,
     "metadata": {},
     "output_type": "execute_result"
    }
   ],
   "source": [
    "gs2.best_params_"
   ]
  },
  {
   "cell_type": "code",
   "execution_count": 26,
   "metadata": {
    "ExecuteTime": {
     "end_time": "2021-04-29T22:03:27.992714Z",
     "start_time": "2021-04-29T22:03:27.979323Z"
    }
   },
   "outputs": [
    {
     "data": {
      "text/plain": [
       "0.6328882992440021"
      ]
     },
     "execution_count": 26,
     "metadata": {},
     "output_type": "execute_result"
    }
   ],
   "source": [
    "gs2.best_score_"
   ]
  },
  {
   "cell_type": "code",
   "execution_count": 55,
   "metadata": {
    "ExecuteTime": {
     "end_time": "2021-04-29T22:20:29.678074Z",
     "start_time": "2021-04-29T22:20:29.209825Z"
    }
   },
   "outputs": [
    {
     "data": {
      "text/plain": [
       "(0.7689066551426103, 0.644199611147116)"
      ]
     },
     "execution_count": 55,
     "metadata": {},
     "output_type": "execute_result"
    }
   ],
   "source": [
    "gs2.score(X_train, y_train), gs2.score(X_test, y_test)"
   ]
  },
  {
   "cell_type": "code",
   "execution_count": null,
   "metadata": {},
   "outputs": [],
   "source": []
  },
  {
   "cell_type": "code",
   "execution_count": null,
   "metadata": {},
   "outputs": [],
   "source": []
  },
  {
   "cell_type": "code",
   "execution_count": null,
   "metadata": {},
   "outputs": [],
   "source": []
  },
  {
   "cell_type": "code",
   "execution_count": null,
   "metadata": {},
   "outputs": [],
   "source": []
  },
  {
   "cell_type": "markdown",
   "metadata": {},
   "source": [
    "Random searching over CountVectorizer and K-Nearest Neighbors:"
   ]
  },
  {
   "cell_type": "code",
   "execution_count": 27,
   "metadata": {
    "ExecuteTime": {
     "end_time": "2021-04-29T22:03:28.008092Z",
     "start_time": "2021-04-29T22:03:27.994701Z"
    }
   },
   "outputs": [],
   "source": [
    "pipe2 = Pipeline([\n",
    "    ('cvec', CountVectorizer()),\n",
    "    ('knn', KNeighborsClassifier())\n",
    "])"
   ]
  },
  {
   "cell_type": "code",
   "execution_count": 66,
   "metadata": {
    "ExecuteTime": {
     "end_time": "2021-04-29T22:35:11.582537Z",
     "start_time": "2021-04-29T22:35:11.572617Z"
    }
   },
   "outputs": [],
   "source": [
    "pparams2 = {\n",
    "    'cvec__max_features': [5000, 6500, 8000, 9500],\n",
    "    'cvec__min_df': [1, 2, 3],\n",
    "    'cvec__max_df': [.9, .95],\n",
    "    'cvec__ngram_range': [(1,1), (1,2), (1,3)],\n",
    "    'cvec__stop_words': ['english', None],\n",
    "    'knn__n_neighbors': list(range(1, 16, 2)),\n",
    "    'knn__weights': ['uniform', 'distance'],\n",
    "    'knn__p': [1,2,3]\n",
    "}"
   ]
  },
  {
   "cell_type": "code",
   "execution_count": 67,
   "metadata": {
    "ExecuteTime": {
     "end_time": "2021-04-29T22:35:14.490786Z",
     "start_time": "2021-04-29T22:35:14.477861Z"
    }
   },
   "outputs": [],
   "source": [
    "rs = RandomizedSearchCV(pipe2, param_distributions=pparams2, n_iter=250, \n",
    "                        n_jobs=-1, cv=5, random_state=6, verbose=1)"
   ]
  },
  {
   "cell_type": "code",
   "execution_count": 68,
   "metadata": {
    "ExecuteTime": {
     "end_time": "2021-04-29T22:38:15.558207Z",
     "start_time": "2021-04-29T22:35:15.214463Z"
    }
   },
   "outputs": [
    {
     "name": "stdout",
     "output_type": "stream",
     "text": [
      "Fitting 5 folds for each of 250 candidates, totalling 1250 fits\n"
     ]
    },
    {
     "name": "stderr",
     "output_type": "stream",
     "text": [
      "[Parallel(n_jobs=-1)]: Using backend LokyBackend with 16 concurrent workers.\n",
      "[Parallel(n_jobs=-1)]: Done  18 tasks      | elapsed:    5.9s\n",
      "[Parallel(n_jobs=-1)]: Done 168 tasks      | elapsed:   24.3s\n",
      "[Parallel(n_jobs=-1)]: Done 418 tasks      | elapsed:   59.1s\n",
      "[Parallel(n_jobs=-1)]: Done 768 tasks      | elapsed:  1.8min\n",
      "[Parallel(n_jobs=-1)]: Done 1218 tasks      | elapsed:  2.9min\n",
      "[Parallel(n_jobs=-1)]: Done 1250 out of 1250 | elapsed:  3.0min finished\n"
     ]
    },
    {
     "data": {
      "text/plain": [
       "RandomizedSearchCV(cv=5,\n",
       "                   estimator=Pipeline(steps=[('cvec', CountVectorizer()),\n",
       "                                             ('knn', KNeighborsClassifier())]),\n",
       "                   n_iter=250, n_jobs=-1,\n",
       "                   param_distributions={'cvec__max_df': [0.9, 0.95],\n",
       "                                        'cvec__max_features': [5000, 6500, 8000,\n",
       "                                                               9500],\n",
       "                                        'cvec__min_df': [1, 2, 3],\n",
       "                                        'cvec__ngram_range': [(1, 1), (1, 2),\n",
       "                                                              (1, 3)],\n",
       "                                        'cvec__stop_words': ['english', None],\n",
       "                                        'knn__n_neighbors': [1, 3, 5, 7, 9, 11,\n",
       "                                                             13, 15],\n",
       "                                        'knn__p': [1, 2, 3],\n",
       "                                        'knn__weights': ['uniform',\n",
       "                                                         'distance']},\n",
       "                   random_state=6, verbose=1)"
      ]
     },
     "execution_count": 68,
     "metadata": {},
     "output_type": "execute_result"
    }
   ],
   "source": [
    "rs.fit(X_train, y_train)"
   ]
  },
  {
   "cell_type": "code",
   "execution_count": 31,
   "metadata": {
    "ExecuteTime": {
     "end_time": "2021-04-29T22:07:03.056951Z",
     "start_time": "2021-04-29T22:07:03.043063Z"
    }
   },
   "outputs": [
    {
     "data": {
      "text/plain": [
       "{'knn__weights': 'uniform',\n",
       " 'knn__p': 2,\n",
       " 'knn__n_neighbors': 3,\n",
       " 'cvec__ngram_range': (1, 1),\n",
       " 'cvec__min_df': 2,\n",
       " 'cvec__max_features': 6500,\n",
       " 'cvec__max_df': 0.95}"
      ]
     },
     "execution_count": 31,
     "metadata": {},
     "output_type": "execute_result"
    }
   ],
   "source": [
    "rs.best_params_"
   ]
  },
  {
   "cell_type": "code",
   "execution_count": 32,
   "metadata": {
    "ExecuteTime": {
     "end_time": "2021-04-29T22:07:03.072327Z",
     "start_time": "2021-04-29T22:07:03.058440Z"
    }
   },
   "outputs": [
    {
     "data": {
      "text/plain": [
       "0.5643906218458763"
      ]
     },
     "execution_count": 32,
     "metadata": {},
     "output_type": "execute_result"
    }
   ],
   "source": [
    "rs.best_score_"
   ]
  },
  {
   "cell_type": "code",
   "execution_count": 33,
   "metadata": {
    "ExecuteTime": {
     "end_time": "2021-04-29T22:07:03.087703Z",
     "start_time": "2021-04-29T22:07:03.073816Z"
    }
   },
   "outputs": [
    {
     "data": {
      "text/plain": [
       "1    0.510128\n",
       "0    0.489872\n",
       "Name: is_jokes, dtype: float64"
      ]
     },
     "execution_count": 33,
     "metadata": {},
     "output_type": "execute_result"
    }
   ],
   "source": [
    "y.value_counts(normalize=True)"
   ]
  },
  {
   "cell_type": "code",
   "execution_count": 34,
   "metadata": {
    "ExecuteTime": {
     "end_time": "2021-04-29T22:07:03.103079Z",
     "start_time": "2021-04-29T22:07:03.089687Z"
    }
   },
   "outputs": [
    {
     "data": {
      "text/plain": [
       "MultinomialNB()"
      ]
     },
     "execution_count": 34,
     "metadata": {},
     "output_type": "execute_result"
    }
   ],
   "source": [
    "MultinomialNB()"
   ]
  },
  {
   "cell_type": "markdown",
   "metadata": {},
   "source": [
    "Random search over CountVectorizer and MultinomialNaiveBayes"
   ]
  },
  {
   "cell_type": "code",
   "execution_count": 35,
   "metadata": {
    "ExecuteTime": {
     "end_time": "2021-04-29T22:07:03.118455Z",
     "start_time": "2021-04-29T22:07:03.104567Z"
    }
   },
   "outputs": [],
   "source": [
    "pipe3 = Pipeline([\n",
    "    ('cvec', CountVectorizer()),\n",
    "    ('mnb', MultinomialNB())\n",
    "])"
   ]
  },
  {
   "cell_type": "code",
   "execution_count": 69,
   "metadata": {
    "ExecuteTime": {
     "end_time": "2021-04-29T22:38:16.265732Z",
     "start_time": "2021-04-29T22:38:16.251844Z"
    }
   },
   "outputs": [],
   "source": [
    "pparams3 = {\n",
    "    'cvec__max_features': [5000, 6500, 8000, 9500],\n",
    "    'cvec__min_df': [1, 2, 3],\n",
    "    'cvec__max_df': [.9, .95],\n",
    "    'cvec__stop_words': ['english', None],\n",
    "    'mnb__alpha': np.linspace(0, 1, 20)\n",
    "}"
   ]
  },
  {
   "cell_type": "code",
   "execution_count": 70,
   "metadata": {
    "ExecuteTime": {
     "end_time": "2021-04-29T22:38:16.972522Z",
     "start_time": "2021-04-29T22:38:16.958338Z"
    }
   },
   "outputs": [],
   "source": [
    "rs2 = RandomizedSearchCV(pipe3, param_distributions=pparams3, n_iter=200, n_jobs=-1, verbose=1, cv=5)"
   ]
  },
  {
   "cell_type": "code",
   "execution_count": 71,
   "metadata": {
    "ExecuteTime": {
     "end_time": "2021-04-29T22:38:42.650603Z",
     "start_time": "2021-04-29T22:38:17.757827Z"
    }
   },
   "outputs": [
    {
     "name": "stdout",
     "output_type": "stream",
     "text": [
      "Fitting 5 folds for each of 200 candidates, totalling 1000 fits\n"
     ]
    },
    {
     "name": "stderr",
     "output_type": "stream",
     "text": [
      "[Parallel(n_jobs=-1)]: Using backend LokyBackend with 16 concurrent workers.\n",
      "[Parallel(n_jobs=-1)]: Done  18 tasks      | elapsed:    0.6s\n",
      "[Parallel(n_jobs=-1)]: Done 168 tasks      | elapsed:    4.3s\n",
      "[Parallel(n_jobs=-1)]: Done 418 tasks      | elapsed:   10.5s\n",
      "[Parallel(n_jobs=-1)]: Done 768 tasks      | elapsed:   19.0s\n",
      "[Parallel(n_jobs=-1)]: Done 1000 out of 1000 | elapsed:   24.6s finished\n"
     ]
    },
    {
     "data": {
      "text/plain": [
       "RandomizedSearchCV(cv=5,\n",
       "                   estimator=Pipeline(steps=[('cvec', CountVectorizer()),\n",
       "                                             ('mnb', MultinomialNB())]),\n",
       "                   n_iter=200, n_jobs=-1,\n",
       "                   param_distributions={'cvec__max_df': [0.9, 0.95],\n",
       "                                        'cvec__max_features': [5000, 6500, 8000,\n",
       "                                                               9500],\n",
       "                                        'cvec__min_df': [1, 2, 3],\n",
       "                                        'cvec__stop_words': ['english', None],\n",
       "                                        'mnb__alpha': array([0.        , 0.05263158, 0.10526316, 0.15789474, 0.21052632,\n",
       "       0.26315789, 0.31578947, 0.36842105, 0.42105263, 0.47368421,\n",
       "       0.52631579, 0.57894737, 0.63157895, 0.68421053, 0.73684211,\n",
       "       0.78947368, 0.84210526, 0.89473684, 0.94736842, 1.        ])},\n",
       "                   verbose=1)"
      ]
     },
     "execution_count": 71,
     "metadata": {},
     "output_type": "execute_result"
    }
   ],
   "source": [
    "rs2.fit(X_train, y_train)"
   ]
  },
  {
   "cell_type": "code",
   "execution_count": 39,
   "metadata": {
    "ExecuteTime": {
     "end_time": "2021-04-29T22:07:35.146681Z",
     "start_time": "2021-04-29T22:07:35.132297Z"
    }
   },
   "outputs": [
    {
     "data": {
      "text/plain": [
       "{'mnb__alpha': 1.0,\n",
       " 'cvec__min_df': 1,\n",
       " 'cvec__max_features': 9500,\n",
       " 'cvec__max_df': 0.9}"
      ]
     },
     "execution_count": 39,
     "metadata": {},
     "output_type": "execute_result"
    }
   ],
   "source": [
    "rs2.best_params_"
   ]
  },
  {
   "cell_type": "code",
   "execution_count": 40,
   "metadata": {
    "ExecuteTime": {
     "end_time": "2021-04-29T22:07:35.162057Z",
     "start_time": "2021-04-29T22:07:35.148169Z"
    }
   },
   "outputs": [
    {
     "data": {
      "text/plain": [
       "0.6130086124714561"
      ]
     },
     "execution_count": 40,
     "metadata": {},
     "output_type": "execute_result"
    }
   ],
   "source": [
    "rs2.best_score_"
   ]
  },
  {
   "cell_type": "markdown",
   "metadata": {},
   "source": [
    "Random search with CountVectorizer and RandomForestClassifier:"
   ]
  },
  {
   "cell_type": "code",
   "execution_count": 27,
   "metadata": {
    "ExecuteTime": {
     "end_time": "2021-04-30T17:08:00.337227Z",
     "start_time": "2021-04-30T17:08:00.318853Z"
    }
   },
   "outputs": [],
   "source": [
    "pipe4 = Pipeline([\n",
    "    ('cvec', CountVectorizer()),\n",
    "    ('rf', RandomForestClassifier())\n",
    "])\n",
    "\n",
    "pparams4 = {\n",
    "    'cvec__max_features': [3500, 5000, 6500, 8000, 9500],\n",
    "    'cvec__min_df': [1, 2, 3],\n",
    "    'cvec__max_df': [.9, .95],\n",
    "    'cvec__ngram_range': [(1,1), (1,2), (1,3)],\n",
    "    'cvec__stop_words': ['english', None],\n",
    "    'rf__n_estimators': [500, 750, 1000, 1250, 1500],\n",
    "    'rf__max_depth': [15, 17, 19, 21, 23, 25],\n",
    "    'rf__min_samples_split': [3, 4, 5],\n",
    "    'rf__min_samples_leaf': [2, 3, 4],\n",
    "    'rf__max_features': ['auto']\n",
    "}"
   ]
  },
  {
   "cell_type": "code",
   "execution_count": 28,
   "metadata": {
    "ExecuteTime": {
     "end_time": "2021-04-30T17:08:01.058418Z",
     "start_time": "2021-04-30T17:08:01.047009Z"
    }
   },
   "outputs": [],
   "source": [
    "rs3 = RandomizedSearchCV(pipe4, param_distributions=pparams4, n_iter=250, n_jobs=-1, verbose=1)"
   ]
  },
  {
   "cell_type": "code",
   "execution_count": 29,
   "metadata": {
    "ExecuteTime": {
     "end_time": "2021-04-30T17:17:33.368420Z",
     "start_time": "2021-04-30T17:08:02.004390Z"
    }
   },
   "outputs": [
    {
     "name": "stdout",
     "output_type": "stream",
     "text": [
      "Fitting 5 folds for each of 250 candidates, totalling 1250 fits\n"
     ]
    },
    {
     "name": "stderr",
     "output_type": "stream",
     "text": [
      "[Parallel(n_jobs=-1)]: Using backend LokyBackend with 16 concurrent workers.\n",
      "[Parallel(n_jobs=-1)]: Done  18 tasks      | elapsed:   10.8s\n",
      "[Parallel(n_jobs=-1)]: Done 168 tasks      | elapsed:  1.3min\n",
      "[Parallel(n_jobs=-1)]: Done 418 tasks      | elapsed:  3.3min\n",
      "[Parallel(n_jobs=-1)]: Done 768 tasks      | elapsed:  5.9min\n",
      "[Parallel(n_jobs=-1)]: Done 1218 tasks      | elapsed:  9.2min\n",
      "[Parallel(n_jobs=-1)]: Done 1250 out of 1250 | elapsed:  9.4min finished\n"
     ]
    },
    {
     "data": {
      "text/plain": [
       "RandomizedSearchCV(estimator=Pipeline(steps=[('cvec', CountVectorizer()),\n",
       "                                             ('rf', RandomForestClassifier())]),\n",
       "                   n_iter=250, n_jobs=-1,\n",
       "                   param_distributions={'cvec__max_df': [0.9, 0.95],\n",
       "                                        'cvec__max_features': [3500, 5000, 6500,\n",
       "                                                               8000, 9500],\n",
       "                                        'cvec__min_df': [1, 2, 3],\n",
       "                                        'cvec__ngram_range': [(1, 1), (1, 2),\n",
       "                                                              (1, 3)],\n",
       "                                        'cvec__stop_words': ['english', None],\n",
       "                                        'rf__max_depth': [15, 17, 19, 21, 23,\n",
       "                                                          25],\n",
       "                                        'rf__max_features': ['auto'],\n",
       "                                        'rf__min_samples_leaf': [2, 3, 4],\n",
       "                                        'rf__min_samples_split': [3, 4, 5],\n",
       "                                        'rf__n_estimators': [500, 750, 1000,\n",
       "                                                             1250, 1500]},\n",
       "                   verbose=1)"
      ]
     },
     "execution_count": 29,
     "metadata": {},
     "output_type": "execute_result"
    }
   ],
   "source": [
    "rs3.fit(X_train, y_train)"
   ]
  },
  {
   "cell_type": "code",
   "execution_count": 44,
   "metadata": {
    "ExecuteTime": {
     "end_time": "2021-04-29T22:18:49.415448Z",
     "start_time": "2021-04-29T22:18:49.401543Z"
    }
   },
   "outputs": [
    {
     "data": {
      "text/plain": [
       "{'rf__n_estimators': 1000,\n",
       " 'rf__min_samples_split': 4,\n",
       " 'rf__min_samples_leaf': 2,\n",
       " 'rf__max_features': 'auto',\n",
       " 'rf__max_depth': 25,\n",
       " 'cvec__ngram_range': (1, 1),\n",
       " 'cvec__min_df': 1,\n",
       " 'cvec__max_features': 5000,\n",
       " 'cvec__max_df': 0.95}"
      ]
     },
     "execution_count": 44,
     "metadata": {},
     "output_type": "execute_result"
    }
   ],
   "source": [
    "rs3.best_params_"
   ]
  },
  {
   "cell_type": "code",
   "execution_count": 45,
   "metadata": {
    "ExecuteTime": {
     "end_time": "2021-04-29T22:18:49.430799Z",
     "start_time": "2021-04-29T22:18:49.416911Z"
    }
   },
   "outputs": [
    {
     "data": {
      "text/plain": [
       "0.6305119058870752"
      ]
     },
     "execution_count": 45,
     "metadata": {},
     "output_type": "execute_result"
    }
   ],
   "source": [
    "rs3.best_score_"
   ]
  },
  {
   "cell_type": "code",
   "execution_count": 46,
   "metadata": {
    "ExecuteTime": {
     "end_time": "2021-04-29T22:18:51.152940Z",
     "start_time": "2021-04-29T22:18:49.432287Z"
    }
   },
   "outputs": [
    {
     "data": {
      "text/plain": [
       "(0.719533275713051, 0.636746597537265)"
      ]
     },
     "execution_count": 46,
     "metadata": {},
     "output_type": "execute_result"
    }
   ],
   "source": [
    "rs3.score(X_train, y_train), rs3.score(X_test, y_test)"
   ]
  },
  {
   "cell_type": "markdown",
   "metadata": {},
   "source": [
    "This would have been random searching over CountVec with XGBoost/SupportVectorClassifier, but the searches were taking way too long and I was running out of time. I plan to come back and rerun these searches, as well as trying other models and NLP tools."
   ]
  },
  {
   "cell_type": "code",
   "execution_count": 47,
   "metadata": {
    "ExecuteTime": {
     "end_time": "2021-04-29T22:18:51.168288Z",
     "start_time": "2021-04-29T22:18:51.153904Z"
    }
   },
   "outputs": [],
   "source": [
    "pipe5 = Pipeline([\n",
    "    ('cvec', CountVectorizer()),\n",
    "    ('xgb', XGBClassifier())\n",
    "])"
   ]
  },
  {
   "cell_type": "code",
   "execution_count": 48,
   "metadata": {
    "ExecuteTime": {
     "end_time": "2021-04-29T22:18:51.183664Z",
     "start_time": "2021-04-29T22:18:51.169776Z"
    }
   },
   "outputs": [],
   "source": [
    "# XGBClassifier()"
   ]
  },
  {
   "cell_type": "code",
   "execution_count": 49,
   "metadata": {
    "ExecuteTime": {
     "end_time": "2021-04-29T22:18:51.199041Z",
     "start_time": "2021-04-29T22:18:51.185152Z"
    }
   },
   "outputs": [],
   "source": [
    "# pparams5 = {\n",
    "#     'cvec__max_features': [3500, 5000, 6500, 8000, 9500],\n",
    "#     'cvec__min_df': [1, 2, 3],\n",
    "#     'cvec__max_df': [.9, .95],\n",
    "#     'cvec__ngram_range': [(1,1), (1,2), (1,3)],\n",
    "#     'xgb__n_estimators': [50, 100, 200, 300, 400],\n",
    "#     'xgb__max_depth': [2,3,4,5,7,9,15],\n",
    "#     'xgb__learning_rate': np.linspace(0, 1, 10),\n",
    "#     'xgb__booster': ['gbtree', 'gblinear', 'dart'],\n",
    "#     'xgb__gamma': np.linspace(0, 3, 10)\n",
    "# }"
   ]
  },
  {
   "cell_type": "code",
   "execution_count": 50,
   "metadata": {
    "ExecuteTime": {
     "end_time": "2021-04-29T22:18:51.214417Z",
     "start_time": "2021-04-29T22:18:51.200528Z"
    }
   },
   "outputs": [],
   "source": [
    "# rs5 = RandomizedSearchCV(pipe5, pparams5, n_iter=100, n_jobs=-1, verbose=3)"
   ]
  },
  {
   "cell_type": "code",
   "execution_count": 51,
   "metadata": {
    "ExecuteTime": {
     "end_time": "2021-04-29T22:18:51.229792Z",
     "start_time": "2021-04-29T22:18:51.215904Z"
    }
   },
   "outputs": [],
   "source": [
    "# rs5.fit(X_train, y_train)"
   ]
  },
  {
   "cell_type": "code",
   "execution_count": null,
   "metadata": {},
   "outputs": [],
   "source": []
  },
  {
   "cell_type": "code",
   "execution_count": 52,
   "metadata": {
    "ExecuteTime": {
     "end_time": "2021-04-29T22:18:51.245168Z",
     "start_time": "2021-04-29T22:18:51.230785Z"
    }
   },
   "outputs": [],
   "source": [
    "# pipe6 = Pipeline([\n",
    "#     ('cvec', CountVectorizer()),\n",
    "#     ('svc', SVC())\n",
    "# ])\n",
    "# pparams6 = {\n",
    "#     'cvec__max_features': [3500, 5000, 6500, 8000, 9500],\n",
    "#     'cvec__min_df': [1, 2, 3],\n",
    "#     'cvec__max_df': [.9, .95],\n",
    "#     'cvec__ngram_range': [(1,1), (1,2), (1,3)],\n",
    "#     'svc__C': np.logspace(-3, 3, 100),\n",
    "#     'svc__kernel': ['linear', 'poly', 'rbf', 'sigmoid', 'precomputed'],\n",
    "#     'svc__degree': [2,3,4],\n",
    "#     'svc__gamma': ['scale', 'auto']\n",
    "# }"
   ]
  },
  {
   "cell_type": "code",
   "execution_count": 53,
   "metadata": {
    "ExecuteTime": {
     "end_time": "2021-04-29T22:18:51.260544Z",
     "start_time": "2021-04-29T22:18:51.246657Z"
    }
   },
   "outputs": [],
   "source": [
    "# rs6 = RandomizedSearchCV(pipe6, pparams6, n_jobs=-1, n_iter=100, verbose=1)"
   ]
  },
  {
   "cell_type": "code",
   "execution_count": 54,
   "metadata": {
    "ExecuteTime": {
     "end_time": "2021-04-29T22:18:51.275950Z",
     "start_time": "2021-04-29T22:18:51.262529Z"
    }
   },
   "outputs": [],
   "source": [
    "# rs6.fit(X_train, y_train)"
   ]
  },
  {
   "cell_type": "markdown",
   "metadata": {},
   "source": [
    "Here we have our top 3 models, their parameters, and train/test accuracy scores:\n",
    "\n",
    "| KNN | LR | RFC |\n",
    "|---|---|---|\n",
    "| weights: uniform | C: 0.05 | n_estimators: 750 |\n",
    "| p: 2 | class_weight: balanced | min_samples_split: 4 |\n",
    "| n_neighbors: 7 | penalty: L2 | min_samples_leaf: 3 |\n",
    "| - | solver: liblinear | max_features: auto |\n",
    "|-|-| max_depth: 25 |\n",
    "|-|-|-|\n",
    "| cvec__stop_words: None | cvec__stop_words: english | cvec__stop_words: None |\n",
    "| cvec__ngram_range: (1, 3) | - | cvec__ngram_range: (1, 1) |\n",
    "| cvec__min_df: 1 | - | cvec__min_df: 3 |\n",
    "| cvec__max_df: .95 | - | cvec__max_df: 0.9 |\n",
    "| cvec__max_features: 5,000 | - | cvec__max_features: 5,000 |\n",
    "|-|-|-|\n",
    "| **Train** | **Train** | **Train** |\n",
    "| 0.6646 | 0.7371 | 0.6990 |\n",
    "| **Test** | **Test** | **Test** |\n",
    "| 0.5531 | 0.6458 | 0.6367 |"
   ]
  },
  {
   "cell_type": "code",
   "execution_count": 89,
   "metadata": {
    "ExecuteTime": {
     "end_time": "2021-04-29T23:14:36.210471Z",
     "start_time": "2021-04-29T23:14:26.098459Z"
    }
   },
   "outputs": [
    {
     "name": "stdout",
     "output_type": "stream",
     "text": [
      "{'knn__weights': 'uniform', 'knn__p': 2, 'knn__n_neighbors': 7, 'cvec__stop_words': None, 'cvec__ngram_range': (1, 3), 'cvec__min_df': 1, 'cvec__max_features': 5000, 'cvec__max_df': 0.95} \n",
      " 0.6646499567847882 0.5531432274789372 \n",
      " 0.11150672930585104 \n",
      "\n",
      "{'rf__n_estimators': 750, 'rf__min_samples_split': 4, 'rf__min_samples_leaf': 3, 'rf__max_features': 'auto', 'rf__max_depth': 25, 'cvec__stop_words': None, 'cvec__ngram_range': (1, 1), 'cvec__min_df': 3, 'cvec__max_features': 5000, 'cvec__max_df': 0.9} \n",
      " 0.6990060501296457 0.636746597537265 \n",
      " 0.06225945259238064 \n",
      "\n"
     ]
    }
   ],
   "source": [
    "for model in [rs,rs3]:\n",
    "    print(model.best_params_,'\\n', model.score(X_train, y_train), model.score(X_test, y_test),'\\n', (model.score(X_train, y_train) - model.score(X_test, y_test)), '\\n')"
   ]
  },
  {
   "cell_type": "code",
   "execution_count": 63,
   "metadata": {
    "ExecuteTime": {
     "end_time": "2021-04-29T22:25:51.513862Z",
     "start_time": "2021-04-29T22:25:51.506429Z"
    }
   },
   "outputs": [
    {
     "name": "stdout",
     "output_type": "stream",
     "text": [
      "{'C': 0.05050505050505051, 'class_weight': 'balanced', 'penalty': 'l2', 'solver': 'liblinear'} \n",
      " 0.7371434745030251 0.6458198314970836 \n",
      " 0.09132364300594153 \n",
      "\n"
     ]
    }
   ],
   "source": [
    "print(gs.best_params_,'\\n', gs.score(Xcv_train, y_train), gs.score(Xcv_test, y_test),'\\n', (gs.score(Xcv_train, y_train) - gs.score(Xcv_test, y_test)), '\\n')"
   ]
  },
  {
   "cell_type": "code",
   "execution_count": 55,
   "metadata": {
    "ExecuteTime": {
     "end_time": "2021-04-30T17:37:04.263863Z",
     "start_time": "2021-04-30T17:37:03.587352Z"
    }
   },
   "outputs": [],
   "source": [
    "rs3_hat = rs3.predict(X_test)"
   ]
  },
  {
   "cell_type": "code",
   "execution_count": 81,
   "metadata": {
    "ExecuteTime": {
     "end_time": "2021-04-29T23:01:24.193803Z",
     "start_time": "2021-04-29T23:01:24.183856Z"
    }
   },
   "outputs": [],
   "source": [
    "tn, fp, fn, tp = confusion_matrix(y_test, rs3_hat).ravel()"
   ]
  },
  {
   "cell_type": "code",
   "execution_count": 85,
   "metadata": {
    "ExecuteTime": {
     "end_time": "2021-04-29T23:01:44.050266Z",
     "start_time": "2021-04-29T23:01:44.041834Z"
    }
   },
   "outputs": [],
   "source": [
    "def scores(tn, fp, fn, tp):\n",
    "    spec = tn / (tn+fp)\n",
    "    sens = tp/(tp+fn)\n",
    "    acc = (tn+tp)/(tn+tp+fn+fp)\n",
    "    prec = tp / (tp+fp)\n",
    "    f1 = 2*((prec*sens)/(prec+sens))\n",
    "    bacc = (sens + spec) / 2\n",
    "    print(f'''\n",
    "    Accuracy: {acc}\n",
    "    Precision: {prec}\n",
    "    Sensitivity: {sens}\n",
    "    Specificity: {spec}\n",
    "    F1 Score: {f1}\n",
    "    Balanced Accuracy: {bacc}\n",
    "    ''')"
   ]
  },
  {
   "cell_type": "code",
   "execution_count": 86,
   "metadata": {
    "ExecuteTime": {
     "end_time": "2021-04-29T23:01:44.880827Z",
     "start_time": "2021-04-29T23:01:44.866270Z"
    }
   },
   "outputs": [
    {
     "name": "stdout",
     "output_type": "stream",
     "text": [
      "\n",
      "    Accuracy: 0.636746597537265\n",
      "    Precision: 0.7267267267267268\n",
      "    Sensitivity: 0.46124523506988563\n",
      "    Specificity: 0.8194444444444444\n",
      "    F1 Score: 0.5643218033424018\n",
      "    Balanced Accuracy: 0.640344839757165\n",
      "    \n"
     ]
    }
   ],
   "source": [
    "scores(tn, fp, fn, tp)"
   ]
  },
  {
   "cell_type": "code",
   "execution_count": 87,
   "metadata": {
    "ExecuteTime": {
     "end_time": "2021-04-29T23:02:46.991086Z",
     "start_time": "2021-04-29T23:02:46.027353Z"
    }
   },
   "outputs": [
    {
     "name": "stdout",
     "output_type": "stream",
     "text": [
      "\n",
      "    Accuracy: 0.5531432274789372\n",
      "    Precision: 0.6077348066298343\n",
      "    Sensitivity: 0.34942820838627703\n",
      "    Specificity: 0.7652116402116402\n",
      "    F1 Score: 0.4437273093989512\n",
      "    Balanced Accuracy: 0.5573199242989586\n",
      "    \n"
     ]
    }
   ],
   "source": [
    "rs_hat = rs.predict(X_test)\n",
    "tn, fp, fn, tp = confusion_matrix(y_test, rs_hat).ravel()\n",
    "scores(tn, fp, fn, tp)"
   ]
  },
  {
   "cell_type": "code",
   "execution_count": 88,
   "metadata": {
    "ExecuteTime": {
     "end_time": "2021-04-29T23:04:12.703699Z",
     "start_time": "2021-04-29T23:04:12.687828Z"
    }
   },
   "outputs": [
    {
     "name": "stdout",
     "output_type": "stream",
     "text": [
      "\n",
      "    Accuracy: 0.6458198314970836\n",
      "    Precision: 0.715695067264574\n",
      "    Sensitivity: 0.5069885641677255\n",
      "    Specificity: 0.7903439153439153\n",
      "    F1 Score: 0.5935291930085533\n",
      "    Balanced Accuracy: 0.6486662397558205\n",
      "    \n"
     ]
    }
   ],
   "source": [
    "gs_hat = gs.predict(Xcv_test)\n",
    "tn, fp, fn, tp = confusion_matrix(y_test, gs_hat).ravel()\n",
    "scores(tn, fp, fn, tp)"
   ]
  },
  {
   "cell_type": "code",
   "execution_count": 90,
   "metadata": {
    "ExecuteTime": {
     "end_time": "2021-04-29T23:19:26.602990Z",
     "start_time": "2021-04-29T23:19:26.594061Z"
    }
   },
   "outputs": [
    {
     "data": {
      "text/html": [
       "<div>\n",
       "<style scoped>\n",
       "    .dataframe tbody tr th:only-of-type {\n",
       "        vertical-align: middle;\n",
       "    }\n",
       "\n",
       "    .dataframe tbody tr th {\n",
       "        vertical-align: top;\n",
       "    }\n",
       "\n",
       "    .dataframe thead th {\n",
       "        text-align: right;\n",
       "    }\n",
       "</style>\n",
       "<table border=\"1\" class=\"dataframe\">\n",
       "  <thead>\n",
       "    <tr style=\"text-align: right;\">\n",
       "      <th></th>\n",
       "      <th>post</th>\n",
       "      <th>is_jokes</th>\n",
       "    </tr>\n",
       "  </thead>\n",
       "  <tbody>\n",
       "    <tr>\n",
       "      <th>0</th>\n",
       "      <td>A well-known professor of language, was caught...</td>\n",
       "      <td>1</td>\n",
       "    </tr>\n",
       "    <tr>\n",
       "      <th>1</th>\n",
       "      <td>I'm quite a normal person, I'm very good frien...</td>\n",
       "      <td>1</td>\n",
       "    </tr>\n",
       "    <tr>\n",
       "      <th>2</th>\n",
       "      <td>How does a gypsy soccer match end? Without goals.</td>\n",
       "      <td>1</td>\n",
       "    </tr>\n",
       "    <tr>\n",
       "      <th>3</th>\n",
       "      <td>A granddaughters questions The first time our ...</td>\n",
       "      <td>1</td>\n",
       "    </tr>\n",
       "    <tr>\n",
       "      <th>4</th>\n",
       "      <td>What did the loaf of sourdough bread day to th...</td>\n",
       "      <td>1</td>\n",
       "    </tr>\n",
       "  </tbody>\n",
       "</table>\n",
       "</div>"
      ],
      "text/plain": [
       "                                                post  is_jokes\n",
       "0  A well-known professor of language, was caught...         1\n",
       "1  I'm quite a normal person, I'm very good frien...         1\n",
       "2  How does a gypsy soccer match end? Without goals.         1\n",
       "3  A granddaughters questions The first time our ...         1\n",
       "4  What did the loaf of sourdough bread day to th...         1"
      ]
     },
     "execution_count": 90,
     "metadata": {},
     "output_type": "execute_result"
    }
   ],
   "source": [
    "df.head()"
   ]
  },
  {
   "cell_type": "code",
   "execution_count": 12,
   "metadata": {
    "ExecuteTime": {
     "end_time": "2021-04-30T15:39:38.691654Z",
     "start_time": "2021-04-30T15:39:38.682230Z"
    }
   },
   "outputs": [],
   "source": [
    "Xcv_df['is_jokes'] = df.is_jokes"
   ]
  },
  {
   "cell_type": "code",
   "execution_count": 98,
   "metadata": {
    "ExecuteTime": {
     "end_time": "2021-04-29T23:21:59.040143Z",
     "start_time": "2021-04-29T23:21:58.049109Z"
    }
   },
   "outputs": [
    {
     "data": {
      "text/html": [
       "<div>\n",
       "<style scoped>\n",
       "    .dataframe tbody tr th:only-of-type {\n",
       "        vertical-align: middle;\n",
       "    }\n",
       "\n",
       "    .dataframe tbody tr th {\n",
       "        vertical-align: top;\n",
       "    }\n",
       "\n",
       "    .dataframe thead th {\n",
       "        text-align: right;\n",
       "    }\n",
       "</style>\n",
       "<table border=\"1\" class=\"dataframe\">\n",
       "  <thead>\n",
       "    <tr style=\"text-align: right;\">\n",
       "      <th></th>\n",
       "      <th>00</th>\n",
       "      <th>000</th>\n",
       "      <th>0038</th>\n",
       "      <th>00am</th>\n",
       "      <th>01</th>\n",
       "      <th>01am</th>\n",
       "      <th>02</th>\n",
       "      <th>05</th>\n",
       "      <th>07</th>\n",
       "      <th>0k</th>\n",
       "      <th>...</th>\n",
       "      <th>себя</th>\n",
       "      <th>странно</th>\n",
       "      <th>уши</th>\n",
       "      <th>что</th>\n",
       "      <th>чувствую</th>\n",
       "      <th>הזה</th>\n",
       "      <th>הצליח</th>\n",
       "      <th>הקפה</th>\n",
       "      <th>מי</th>\n",
       "      <th>נחמד</th>\n",
       "    </tr>\n",
       "    <tr>\n",
       "      <th>is_jokes</th>\n",
       "      <th></th>\n",
       "      <th></th>\n",
       "      <th></th>\n",
       "      <th></th>\n",
       "      <th></th>\n",
       "      <th></th>\n",
       "      <th></th>\n",
       "      <th></th>\n",
       "      <th></th>\n",
       "      <th></th>\n",
       "      <th></th>\n",
       "      <th></th>\n",
       "      <th></th>\n",
       "      <th></th>\n",
       "      <th></th>\n",
       "      <th></th>\n",
       "      <th></th>\n",
       "      <th></th>\n",
       "      <th></th>\n",
       "      <th></th>\n",
       "      <th></th>\n",
       "    </tr>\n",
       "  </thead>\n",
       "  <tbody>\n",
       "    <tr>\n",
       "      <th>0.0</th>\n",
       "      <td>0.002826</td>\n",
       "      <td>0.007418</td>\n",
       "      <td>0.000000</td>\n",
       "      <td>0.000000</td>\n",
       "      <td>0.000000</td>\n",
       "      <td>0.000353</td>\n",
       "      <td>0.000000</td>\n",
       "      <td>0.000353</td>\n",
       "      <td>0.000353</td>\n",
       "      <td>0.000000</td>\n",
       "      <td>...</td>\n",
       "      <td>0.000353</td>\n",
       "      <td>0.000353</td>\n",
       "      <td>0.000353</td>\n",
       "      <td>0.000353</td>\n",
       "      <td>0.000353</td>\n",
       "      <td>0.000353</td>\n",
       "      <td>0.000353</td>\n",
       "      <td>0.000353</td>\n",
       "      <td>0.000353</td>\n",
       "      <td>0.000353</td>\n",
       "    </tr>\n",
       "    <tr>\n",
       "      <th>1.0</th>\n",
       "      <td>0.000635</td>\n",
       "      <td>0.003018</td>\n",
       "      <td>0.000159</td>\n",
       "      <td>0.000159</td>\n",
       "      <td>0.000318</td>\n",
       "      <td>0.000159</td>\n",
       "      <td>0.000318</td>\n",
       "      <td>0.000000</td>\n",
       "      <td>0.000000</td>\n",
       "      <td>0.000159</td>\n",
       "      <td>...</td>\n",
       "      <td>0.000000</td>\n",
       "      <td>0.000000</td>\n",
       "      <td>0.000000</td>\n",
       "      <td>0.000000</td>\n",
       "      <td>0.000000</td>\n",
       "      <td>0.000000</td>\n",
       "      <td>0.000000</td>\n",
       "      <td>0.000000</td>\n",
       "      <td>0.000000</td>\n",
       "      <td>0.000000</td>\n",
       "    </tr>\n",
       "  </tbody>\n",
       "</table>\n",
       "<p>2 rows × 17392 columns</p>\n",
       "</div>"
      ],
      "text/plain": [
       "                00       000      0038      00am        01      01am  \\\n",
       "is_jokes                                                               \n",
       "0.0       0.002826  0.007418  0.000000  0.000000  0.000000  0.000353   \n",
       "1.0       0.000635  0.003018  0.000159  0.000159  0.000318  0.000159   \n",
       "\n",
       "                02        05        07        0k  ...      себя   странно  \\\n",
       "is_jokes                                          ...                       \n",
       "0.0       0.000000  0.000353  0.000353  0.000000  ...  0.000353  0.000353   \n",
       "1.0       0.000318  0.000000  0.000000  0.000159  ...  0.000000  0.000000   \n",
       "\n",
       "               уши       что  чувствую       הזה     הצליח      הקפה  \\\n",
       "is_jokes                                                               \n",
       "0.0       0.000353  0.000353  0.000353  0.000353  0.000353  0.000353   \n",
       "1.0       0.000000  0.000000  0.000000  0.000000  0.000000  0.000000   \n",
       "\n",
       "                מי      נחמד  \n",
       "is_jokes                      \n",
       "0.0       0.000353  0.000353  \n",
       "1.0       0.000000  0.000000  \n",
       "\n",
       "[2 rows x 17392 columns]"
      ]
     },
     "execution_count": 98,
     "metadata": {},
     "output_type": "execute_result"
    }
   ],
   "source": [
    "Xcv_df.groupby('is_jokes').mean()"
   ]
  },
  {
   "cell_type": "markdown",
   "metadata": {},
   "source": [
    "Here I looked at the top 40 words from each subreddit, and specifically pulled out the unique words from each: \n",
    "\n",
    "| Jokes | DadJokes |\n",
    "|-|-|\n",
    "|right|think|\n",
    "|goes|little|\n",
    "|didn't|doctor|\n",
    "|today|came|"
   ]
  },
  {
   "cell_type": "code",
   "execution_count": 20,
   "metadata": {
    "ExecuteTime": {
     "end_time": "2021-04-30T15:41:49.835993Z",
     "start_time": "2021-04-30T15:41:49.548263Z"
    }
   },
   "outputs": [],
   "source": [
    "a = Xcv_df[Xcv_df['is_jokes'] == 1].sum().sort_values(ascending=False).head(41)[1:]"
   ]
  },
  {
   "cell_type": "code",
   "execution_count": 21,
   "metadata": {
    "ExecuteTime": {
     "end_time": "2021-04-30T15:41:57.470990Z",
     "start_time": "2021-04-30T15:41:57.327299Z"
    }
   },
   "outputs": [],
   "source": [
    "b = Xcv_df[Xcv_df['is_jokes'] == 0].sum().sort_values(ascending=False).head(40)"
   ]
  },
  {
   "cell_type": "code",
   "execution_count": 22,
   "metadata": {
    "ExecuteTime": {
     "end_time": "2021-04-30T15:41:57.872202Z",
     "start_time": "2021-04-30T15:41:57.861748Z"
    }
   },
   "outputs": [
    {
     "data": {
      "text/plain": [
       "said      709.0\n",
       "did       697.0\n",
       "says      687.0\n",
       "man       660.0\n",
       "just      604.0\n",
       "like      508.0\n",
       "wife      466.0\n",
       "don       440.0\n",
       "know      425.0\n",
       "say       386.0\n",
       "got       384.0\n",
       "asked     349.0\n",
       "day       346.0\n",
       "time      330.0\n",
       "guy       322.0\n",
       "dad       317.0\n",
       "joke      307.0\n",
       "people    305.0\n",
       "does      298.0\n",
       "told      297.0\n",
       "son       251.0\n",
       "ll        250.0\n",
       "make      241.0\n",
       "asks      239.0\n",
       "new       229.0\n",
       "going     229.0\n",
       "old       220.0\n",
       "ve        218.0\n",
       "went      207.0\n",
       "good      202.0\n",
       "friend    201.0\n",
       "want      200.0\n",
       "really    200.0\n",
       "bar       188.0\n",
       "right     188.0\n",
       "tell      178.0\n",
       "goes      177.0\n",
       "didn      177.0\n",
       "woman     176.0\n",
       "today     174.0\n",
       "dtype: float64"
      ]
     },
     "execution_count": 22,
     "metadata": {},
     "output_type": "execute_result"
    }
   ],
   "source": [
    "a"
   ]
  },
  {
   "cell_type": "code",
   "execution_count": 23,
   "metadata": {
    "ExecuteTime": {
     "end_time": "2021-04-30T15:41:59.118351Z",
     "start_time": "2021-04-30T15:41:59.109922Z"
    }
   },
   "outputs": [
    {
     "data": {
      "text/plain": [
       "man       356.0\n",
       "did       344.0\n",
       "says      339.0\n",
       "said      310.0\n",
       "just      275.0\n",
       "like      227.0\n",
       "don       215.0\n",
       "know      214.0\n",
       "day       198.0\n",
       "wife      198.0\n",
       "got       183.0\n",
       "time      170.0\n",
       "say       167.0\n",
       "dad       166.0\n",
       "asked     164.0\n",
       "people    156.0\n",
       "guy       134.0\n",
       "does      125.0\n",
       "joke      120.0\n",
       "told      117.0\n",
       "bar       110.0\n",
       "old       108.0\n",
       "think     107.0\n",
       "ll        104.0\n",
       "woman     102.0\n",
       "asks       98.0\n",
       "little     98.0\n",
       "son        97.0\n",
       "want       94.0\n",
       "make       94.0\n",
       "good       94.0\n",
       "going      94.0\n",
       "went       91.0\n",
       "new        90.0\n",
       "doctor     87.0\n",
       "ve         86.0\n",
       "came       85.0\n",
       "friend     84.0\n",
       "really     81.0\n",
       "tell       80.0\n",
       "dtype: float64"
      ]
     },
     "execution_count": 23,
     "metadata": {},
     "output_type": "execute_result"
    }
   ],
   "source": [
    "b"
   ]
  },
  {
   "cell_type": "code",
   "execution_count": 24,
   "metadata": {
    "ExecuteTime": {
     "end_time": "2021-04-30T15:42:03.876567Z",
     "start_time": "2021-04-30T15:42:03.863670Z"
    }
   },
   "outputs": [
    {
     "data": {
      "text/plain": [
       "[('right', 34), ('goes', 36), ('didn', 37), ('today', 39)]"
      ]
     },
     "execution_count": 24,
     "metadata": {},
     "output_type": "execute_result"
    }
   ],
   "source": [
    "[(i, index) for index, i in enumerate(a.index) if i not in b.index]"
   ]
  },
  {
   "cell_type": "code",
   "execution_count": 25,
   "metadata": {
    "ExecuteTime": {
     "end_time": "2021-04-30T15:42:06.752063Z",
     "start_time": "2021-04-30T15:42:06.738672Z"
    }
   },
   "outputs": [
    {
     "data": {
      "text/plain": [
       "[('think', 22), ('little', 26), ('doctor', 34), ('came', 36)]"
      ]
     },
     "execution_count": 25,
     "metadata": {},
     "output_type": "execute_result"
    }
   ],
   "source": [
    "[(i, index) for index, i in enumerate(b.index) if i not in a.index]"
   ]
  },
  {
   "cell_type": "code",
   "execution_count": 123,
   "metadata": {
    "ExecuteTime": {
     "end_time": "2021-04-29T23:39:17.835123Z",
     "start_time": "2021-04-29T23:39:17.823715Z"
    }
   },
   "outputs": [
    {
     "data": {
      "text/plain": [
       "(1    6296\n",
       " 0    6046\n",
       " Name: is_jokes, dtype: int64,\n",
       " 1    0.510128\n",
       " 0    0.489872\n",
       " Name: is_jokes, dtype: float64)"
      ]
     },
     "execution_count": 123,
     "metadata": {},
     "output_type": "execute_result"
    }
   ],
   "source": [
    "df.is_jokes.value_counts(), df.is_jokes.value_counts(normalize=True)"
   ]
  },
  {
   "cell_type": "code",
   "execution_count": 30,
   "metadata": {
    "ExecuteTime": {
     "end_time": "2021-04-30T17:17:50.121150Z",
     "start_time": "2021-04-30T17:17:49.302119Z"
    }
   },
   "outputs": [
    {
     "data": {
      "text/plain": [
       "<sklearn.metrics._plot.confusion_matrix.ConfusionMatrixDisplay at 0x273cf31c040>"
      ]
     },
     "execution_count": 30,
     "metadata": {},
     "output_type": "execute_result"
    },
    {
     "data": {
      "image/png": "[encoded data removed]",
      "text/plain": [
       "<Figure size 432x288 with 2 Axes>"
      ]
     },
     "metadata": {
      "needs_background": "light"
     },
     "output_type": "display_data"
    }
   ],
   "source": [
    "plot_confusion_matrix(rs3, X_test, y_test)"
   ]
  },
  {
   "cell_type": "code",
   "execution_count": 41,
   "metadata": {
    "ExecuteTime": {
     "end_time": "2021-04-30T17:23:11.020072Z",
     "start_time": "2021-04-30T17:23:11.007672Z"
    }
   },
   "outputs": [
    {
     "data": {
      "text/plain": [
       "Pipeline(steps=[('cvec',\n",
       "                 CountVectorizer(max_df=0.95, max_features=5000, min_df=3)),\n",
       "                ('rf',\n",
       "                 RandomForestClassifier(max_depth=25, min_samples_leaf=3,\n",
       "                                        min_samples_split=4,\n",
       "                                        n_estimators=1500))])"
      ]
     },
     "execution_count": 41,
     "metadata": {},
     "output_type": "execute_result"
    }
   ],
   "source": [
    "rs3.best_estimator_\n"
   ]
  },
  {
   "cell_type": "code",
   "execution_count": 53,
   "metadata": {
    "ExecuteTime": {
     "end_time": "2021-04-30T17:27:41.593906Z",
     "start_time": "2021-04-30T17:27:41.310665Z"
    }
   },
   "outputs": [
    {
     "ename": "TypeError",
     "evalue": "'numpy.ndarray' object is not callable",
     "output_type": "error",
     "traceback": [
      "\u001b[1;31m---------------------------------------------------------------------------\u001b[0m",
      "\u001b[1;31mTypeError\u001b[0m                                 Traceback (most recent call last)",
      "\u001b[1;32m<ipython-input-53-255241fd8249>\u001b[0m in \u001b[0;36m<module>\u001b[1;34m\u001b[0m\n\u001b[1;32m----> 1\u001b[1;33m \u001b[0mlist\u001b[0m\u001b[1;33m(\u001b[0m\u001b[0mzip\u001b[0m\u001b[1;33m(\u001b[0m\u001b[0mXcv_df\u001b[0m\u001b[1;33m.\u001b[0m\u001b[0mcolumns\u001b[0m\u001b[1;33m,\u001b[0m \u001b[0mrs3\u001b[0m\u001b[1;33m.\u001b[0m\u001b[0mbest_estimator_\u001b[0m\u001b[1;33m.\u001b[0m\u001b[0mnamed_steps\u001b[0m\u001b[1;33m[\u001b[0m\u001b[1;34m'rf'\u001b[0m\u001b[1;33m]\u001b[0m\u001b[1;33m.\u001b[0m\u001b[0mfeature_importances_\u001b[0m\u001b[1;33m)\u001b[0m\u001b[1;33m)\u001b[0m\u001b[1;33m.\u001b[0m\u001b[0msort\u001b[0m\u001b[1;33m(\u001b[0m\u001b[0mkey\u001b[0m\u001b[1;33m=\u001b[0m\u001b[0mrs3\u001b[0m\u001b[1;33m.\u001b[0m\u001b[0mbest_estimator_\u001b[0m\u001b[1;33m.\u001b[0m\u001b[0mnamed_steps\u001b[0m\u001b[1;33m[\u001b[0m\u001b[1;34m'rf'\u001b[0m\u001b[1;33m]\u001b[0m\u001b[1;33m.\u001b[0m\u001b[0mfeature_importances_\u001b[0m\u001b[1;33m)\u001b[0m\u001b[1;33m\u001b[0m\u001b[1;33m\u001b[0m\u001b[0m\n\u001b[0m",
      "\u001b[1;31mTypeError\u001b[0m: 'numpy.ndarray' object is not callable"
     ]
    }
   ],
   "source": [
    "list(zip(Xcv_df.columns, rs3.best_estimator_.named_steps['rf'].feature_importances_)).sort(key=rs3.best_estimator_.named_steps['rf'].feature_importances_)\n"
   ]
  },
  {
   "cell_type": "code",
   "execution_count": 54,
   "metadata": {
    "ExecuteTime": {
     "end_time": "2021-04-30T17:36:09.208066Z",
     "start_time": "2021-04-30T17:36:09.196658Z"
    }
   },
   "outputs": [],
   "source": [
    "from sklearn.metrics import roc_auc_score"
   ]
  },
  {
   "cell_type": "code",
   "execution_count": 56,
   "metadata": {
    "ExecuteTime": {
     "end_time": "2021-04-30T17:37:07.005181Z",
     "start_time": "2021-04-30T17:37:06.999201Z"
    }
   },
   "outputs": [
    {
     "data": {
      "text/plain": [
       "0.641219670841653"
      ]
     },
     "execution_count": 56,
     "metadata": {},
     "output_type": "execute_result"
    }
   ],
   "source": [
    "roc_auc_score(y_test, rs3_hat)"
   ]
  },
  {
   "cell_type": "code",
   "execution_count": null,
   "metadata": {},
   "outputs": [],
   "source": []
  },
  {
   "cell_type": "code",
   "execution_count": null,
   "metadata": {},
   "outputs": [],
   "source": []
  },
  {
   "cell_type": "markdown",
   "metadata": {},
   "source": [
    "# Conclusion"
   ]
  },
  {
   "cell_type": "markdown",
   "metadata": {},
   "source": [
    "In summary, I think that this project is a good proof of concept. It shows that with the right data and appropriate modeling, classification *is* possible here. As it stands now, I would recommend the company use the RandomForestClassifier model, as it performed the best (of the models we tried) with regard to accuracy and bias/variance. In the future, I plan on revisiting this problem with more robust modeling techniques and NLP tools to try to improve model performance."
   ]
  },
  {
   "cell_type": "code",
   "execution_count": null,
   "metadata": {},
   "outputs": [],
   "source": []
  },
  {
   "cell_type": "code",
   "execution_count": null,
   "metadata": {},
   "outputs": [],
   "source": []
  },
  {
   "cell_type": "code",
   "execution_count": null,
   "metadata": {},
   "outputs": [],
   "source": []
  },
  {
   "cell_type": "code",
   "execution_count": null,
   "metadata": {},
   "outputs": [],
   "source": []
  },
  {
   "cell_type": "code",
   "execution_count": null,
   "metadata": {},
   "outputs": [],
   "source": []
  },
  {
   "cell_type": "code",
   "execution_count": null,
   "metadata": {},
   "outputs": [],
   "source": []
  },
  {
   "cell_type": "code",
   "execution_count": null,
   "metadata": {},
   "outputs": [],
   "source": []
  },
  {
   "cell_type": "code",
   "execution_count": null,
   "metadata": {},
   "outputs": [],
   "source": []
  },
  {
   "cell_type": "code",
   "execution_count": null,
   "metadata": {},
   "outputs": [],
   "source": []
  },
  {
   "cell_type": "code",
   "execution_count": null,
   "metadata": {},
   "outputs": [],
   "source": []
  },
  {
   "cell_type": "code",
   "execution_count": null,
   "metadata": {},
   "outputs": [],
   "source": []
  },
  {
   "cell_type": "code",
   "execution_count": null,
   "metadata": {},
   "outputs": [],
   "source": []
  },
  {
   "cell_type": "code",
   "execution_count": null,
   "metadata": {},
   "outputs": [],
   "source": []
  }
 ],
 "metadata": {
  "kernelspec": {
   "display_name": "Python 3",
   "language": "python",
   "name": "python3"
  },
  "language_info": {
   "codemirror_mode": {
    "name": "ipython",
    "version": 3
   },
   "file_extension": ".py",
   "mimetype": "text/x-python",
   "name": "python",
   "nbconvert_exporter": "python",
   "pygments_lexer": "ipython3",
   "version": "3.8.5"
  },
  "toc": {
   "base_numbering": 1,
   "nav_menu": {},
   "number_sections": true,
   "sideBar": true,
   "skip_h1_title": false,
   "title_cell": "Table of Contents",
   "title_sidebar": "Contents",
   "toc_cell": false,
   "toc_position": {},
   "toc_section_display": true,
   "toc_window_display": false
  },
  "varInspector": {
   "cols": {
    "lenName": 16,
    "lenType": 16,
    "lenVar": 40
   },
   "kernels_config": {
    "python": {
     "delete_cmd_postfix": "",
     "delete_cmd_prefix": "del ",
     "library": "var_list.py",
     "varRefreshCmd": "print(var_dic_list())"
    },
    "r": {
     "delete_cmd_postfix": ") ",
     "delete_cmd_prefix": "rm(",
     "library": "var_list.r",
     "varRefreshCmd": "cat(var_dic_list()) "
    }
   },
   "types_to_exclude": [
    "module",
    "function",
    "builtin_function_or_method",
    "instance",
    "_Feature"
   ],
   "window_display": false
  }
 },
 "nbformat": 4,
 "nbformat_minor": 4
}
