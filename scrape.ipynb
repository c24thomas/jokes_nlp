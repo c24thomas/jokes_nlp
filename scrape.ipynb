{
 "cells": [
  {
   "cell_type": "code",
   "execution_count": null,
   "metadata": {},
   "outputs": [],
   "source": []
  },
  {
   "cell_type": "markdown",
   "metadata": {},
   "source": [
    "# Problem Statement"
   ]
  },
  {
   "cell_type": "markdown",
   "metadata": {},
   "source": [
    "I was hired by ***greeting card company*** to classify whether or not a joke is a 'dad-joke'. Father's day is approaching; the company wants to run a dad-joke-based ad campaign. No one can agree on what consititutes a *dad-joke*. So, the goal of this project is to properly classify jokes as either 'dad-jokes' or 'standard jokes'."
   ]
  },
  {
   "cell_type": "code",
   "execution_count": null,
   "metadata": {},
   "outputs": [],
   "source": []
  },
  {
   "cell_type": "code",
   "execution_count": null,
   "metadata": {},
   "outputs": [],
   "source": []
  },
  {
   "cell_type": "code",
   "execution_count": null,
   "metadata": {},
   "outputs": [],
   "source": []
  },
  {
   "cell_type": "code",
   "execution_count": 1,
   "metadata": {
    "ExecuteTime": {
     "end_time": "2021-04-30T18:58:43.975976Z",
     "start_time": "2021-04-30T18:58:43.704167Z"
    }
   },
   "outputs": [],
   "source": [
    "import requests as r\n",
    "import time\n",
    "import pandas as pd\n",
    "import numpy as np\n",
    "from datetime import datetime as dt"
   ]
  },
  {
   "cell_type": "code",
   "execution_count": null,
   "metadata": {},
   "outputs": [],
   "source": []
  },
  {
   "cell_type": "code",
   "execution_count": null,
   "metadata": {},
   "outputs": [],
   "source": []
  },
  {
   "cell_type": "markdown",
   "metadata": {},
   "source": [
    "Using pushshift.io API to pull Reddit posts"
   ]
  },
  {
   "cell_type": "code",
   "execution_count": 4,
   "metadata": {
    "ExecuteTime": {
     "end_time": "2021-04-22T22:15:14.585266Z",
     "start_time": "2021-04-22T22:15:14.573858Z"
    }
   },
   "outputs": [],
   "source": [
    "url = 'https://api.pushshift.io/reddit/search/submission/?'"
   ]
  },
  {
   "cell_type": "code",
   "execution_count": null,
   "metadata": {},
   "outputs": [],
   "source": []
  },
  {
   "cell_type": "code",
   "execution_count": 35,
   "metadata": {
    "ExecuteTime": {
     "end_time": "2021-04-22T22:36:28.465308Z",
     "start_time": "2021-04-22T22:36:20.793516Z"
    }
   },
   "outputs": [],
   "source": [
    "params = {\n",
    "    'subreddit': 'Jokes',\n",
    "    'size': '1'\n",
    "}\n",
    "req = r.get(url, params=params)"
   ]
  },
  {
   "cell_type": "code",
   "execution_count": 36,
   "metadata": {
    "ExecuteTime": {
     "end_time": "2021-04-22T22:36:28.511412Z",
     "start_time": "2021-04-22T22:36:28.497496Z"
    }
   },
   "outputs": [],
   "source": [
    "req.raise_for_status()"
   ]
  },
  {
   "cell_type": "code",
   "execution_count": 40,
   "metadata": {
    "ExecuteTime": {
     "end_time": "2021-04-22T22:38:13.620634Z",
     "start_time": "2021-04-22T22:38:13.607738Z"
    }
   },
   "outputs": [],
   "source": [
    "df1 = pd.DataFrame.from_dict(req.json()['data'])"
   ]
  },
  {
   "cell_type": "code",
   "execution_count": 59,
   "metadata": {
    "ExecuteTime": {
     "end_time": "2021-04-22T23:25:21.835656Z",
     "start_time": "2021-04-22T23:25:21.820281Z"
    }
   },
   "outputs": [],
   "source": [
    "df2 = pd.DataFrame.from_dict(req.json()['data'])"
   ]
  },
  {
   "cell_type": "code",
   "execution_count": 61,
   "metadata": {
    "ExecuteTime": {
     "end_time": "2021-04-22T23:25:29.514824Z",
     "start_time": "2021-04-22T23:25:29.496449Z"
    }
   },
   "outputs": [],
   "source": [
    "df1 = df1.append(df2)"
   ]
  },
  {
   "cell_type": "code",
   "execution_count": 69,
   "metadata": {
    "ExecuteTime": {
     "end_time": "2021-04-22T23:28:26.395214Z",
     "start_time": "2021-04-22T23:28:26.385790Z"
    }
   },
   "outputs": [
    {
     "data": {
      "text/plain": [
       "Index(['all_awardings', 'allow_live_comments', 'author',\n",
       "       'author_flair_css_class', 'author_flair_richtext', 'author_flair_text',\n",
       "       'author_flair_type', 'author_fullname', 'author_patreon_flair',\n",
       "       'author_premium', 'awarders', 'can_mod_post', 'contest_mode',\n",
       "       'created_utc', 'domain', 'full_link', 'gildings', 'id',\n",
       "       'is_crosspostable', 'is_meta', 'is_original_content',\n",
       "       'is_reddit_media_domain', 'is_robot_indexable', 'is_self', 'is_video',\n",
       "       'link_flair_background_color', 'link_flair_richtext',\n",
       "       'link_flair_text_color', 'link_flair_type', 'locked', 'media_only',\n",
       "       'no_follow', 'num_comments', 'num_crossposts', 'over_18',\n",
       "       'parent_whitelist_status', 'permalink', 'pinned', 'pwls',\n",
       "       'retrieved_on', 'score', 'selftext', 'send_replies', 'spoiler',\n",
       "       'stickied', 'subreddit', 'subreddit_id', 'subreddit_subscribers',\n",
       "       'subreddit_type', 'thumbnail', 'title', 'total_awards_received',\n",
       "       'treatment_tags', 'upvote_ratio', 'url', 'whitelist_status', 'wls'],\n",
       "      dtype='object')"
      ]
     },
     "execution_count": 69,
     "metadata": {},
     "output_type": "execute_result"
    }
   ],
   "source": [
    "df1.columns"
   ]
  },
  {
   "cell_type": "markdown",
   "metadata": {},
   "source": [
    "This function queries pushshift.io for a particular subreddit until it reaches 7500 posts, dropping duplicates along the way, and putting all the posts into a DataFrame. I ran this function on both r/Jokes and r/DadJokes."
   ]
  },
  {
   "cell_type": "code",
   "execution_count": 21,
   "metadata": {
    "ExecuteTime": {
     "end_time": "2021-04-27T19:53:48.538651Z",
     "start_time": "2021-04-27T19:53:48.531207Z"
    },
    "code_folding": []
   },
   "outputs": [],
   "source": [
    "def reddit_query(sub):\n",
    "    hack = dt.now()\n",
    "    URL = 'https://api.pushshift.io/reddit/search/submission/?'\n",
    "    SUBFIELDS = ['title', 'selftext', 'subreddit']\n",
    "    day = 1\n",
    "    r1 = r.get(URL, params={'subreddit': sub, 'size': '1'})\n",
    "    assert r1.status_code == 200\n",
    "    df = pd.DataFrame.from_dict(r1.json()['data'])\n",
    "    while df.shape[0] < 7_500:\n",
    "        params = {\n",
    "            'subreddit': sub,\n",
    "            'size': '100',\n",
    "            'after': f'{3*day}d'\n",
    "            }\n",
    "        req = r.get(URL, params=params)\n",
    "        try:\n",
    "            assert req.status_code == 200\n",
    "        except AssertionError:\n",
    "            continue\n",
    "        df2 = pd.DataFrame.from_dict(req.json()['data'])\n",
    "        df = df.append(df2, ignore_index=True)\n",
    "        df.drop_duplicates(subset=['title'], inplace=True, ignore_index=True)\n",
    "        print(df.shape[0])\n",
    "        print(dt.now() - hack)\n",
    "        day += 1\n",
    "        time.sleep(1)\n",
    "    df = df[SUBFIELDS]\n",
    "    return df\n",
    "    "
   ]
  },
  {
   "cell_type": "code",
   "execution_count": 22,
   "metadata": {
    "ExecuteTime": {
     "end_time": "2021-04-27T20:00:32.058969Z",
     "start_time": "2021-04-27T19:53:49.259825Z"
    }
   },
   "outputs": [
    {
     "name": "stdout",
     "output_type": "stream",
     "text": [
      "101\n",
      "0:00:08.630163\n",
      "200\n",
      "0:00:10.620751\n",
      "300\n",
      "0:00:12.584684\n",
      "400\n",
      "0:00:14.345839\n",
      "500\n",
      "0:00:23.894352\n",
      "525\n",
      "0:00:27.658965\n",
      "623\n",
      "0:00:31.278576\n",
      "722\n",
      "0:00:40.707326\n",
      "822\n",
      "0:00:42.585346\n",
      "922\n",
      "0:00:44.412299\n",
      "1021\n",
      "0:00:47.554255\n",
      "1021\n",
      "0:00:56.987683\n",
      "1021\n",
      "0:00:58.769829\n",
      "1116\n",
      "0:01:00.971347\n",
      "1211\n",
      "0:01:04.602776\n",
      "1308\n",
      "0:01:13.685902\n",
      "1407\n",
      "0:01:31.453327\n",
      "1503\n",
      "0:01:45.900829\n",
      "1602\n",
      "0:01:48.117334\n",
      "1701\n",
      "0:01:50.540781\n",
      "1801\n",
      "0:01:52.857705\n",
      "1899\n",
      "0:02:01.388774\n",
      "1996\n",
      "0:02:03.248406\n",
      "2092\n",
      "0:02:06.557230\n",
      "2191\n",
      "0:02:09.741728\n",
      "2289\n",
      "0:02:11.757793\n",
      "2388\n",
      "0:02:20.860905\n",
      "2481\n",
      "0:02:23.198332\n",
      "2579\n",
      "0:02:25.262170\n",
      "2675\n",
      "0:02:27.467730\n",
      "2772\n",
      "0:02:29.153788\n",
      "2869\n",
      "0:02:39.668136\n",
      "2969\n",
      "0:02:41.435588\n",
      "3065\n",
      "0:02:43.996291\n",
      "3164\n",
      "0:02:53.204322\n",
      "3263\n",
      "0:02:57.161498\n",
      "3361\n",
      "0:03:03.714380\n",
      "3461\n",
      "0:03:14.962932\n",
      "3557\n",
      "0:03:19.187822\n",
      "3657\n",
      "0:03:26.373225\n",
      "3756\n",
      "0:03:28.642124\n",
      "3855\n",
      "0:03:30.433854\n",
      "3952\n",
      "0:03:32.304662\n",
      "4051\n",
      "0:03:34.501246\n",
      "4150\n",
      "0:03:52.258158\n",
      "4250\n",
      "0:04:10.777298\n",
      "4346\n",
      "0:04:20.680246\n",
      "4443\n",
      "0:04:23.128464\n",
      "4539\n",
      "0:04:25.703240\n",
      "4631\n",
      "0:04:35.134098\n",
      "4731\n",
      "0:04:39.250464\n",
      "4826\n",
      "0:04:42.445698\n",
      "4923\n",
      "0:04:54.026002\n",
      "5017\n",
      "0:04:56.480466\n",
      "5113\n",
      "0:04:58.562558\n",
      "5212\n",
      "0:05:00.378923\n",
      "5307\n",
      "0:05:09.614264\n",
      "5402\n",
      "0:05:11.532770\n",
      "5501\n",
      "0:05:13.723651\n",
      "5600\n",
      "0:05:15.698706\n",
      "5697\n",
      "0:05:17.572638\n",
      "5791\n",
      "0:05:26.908982\n",
      "5888\n",
      "0:05:29.133028\n",
      "5986\n",
      "0:05:30.945681\n",
      "6082\n",
      "0:05:33.909906\n",
      "6181\n",
      "0:05:43.125114\n",
      "6281\n",
      "0:05:45.537929\n",
      "6377\n",
      "0:05:48.073243\n",
      "6473\n",
      "0:05:50.681991\n",
      "6569\n",
      "0:05:59.992165\n",
      "6666\n",
      "0:06:02.855858\n",
      "6765\n",
      "0:06:05.228499\n",
      "6861\n",
      "0:06:07.768183\n",
      "6960\n",
      "0:06:17.233731\n",
      "7057\n",
      "0:06:19.505266\n",
      "7153\n",
      "0:06:22.412069\n",
      "7248\n",
      "0:06:24.957704\n",
      "7343\n",
      "0:06:34.920475\n",
      "7439\n",
      "0:06:37.509464\n",
      "7534\n",
      "0:06:41.774053\n"
     ]
    }
   ],
   "source": [
    "jokes_df = reddit_query('Jokes')"
   ]
  },
  {
   "cell_type": "code",
   "execution_count": 23,
   "metadata": {
    "ExecuteTime": {
     "end_time": "2021-04-27T20:00:39.816026Z",
     "start_time": "2021-04-27T20:00:39.793678Z"
    }
   },
   "outputs": [
    {
     "data": {
      "text/html": [
       "<div>\n",
       "<style scoped>\n",
       "    .dataframe tbody tr th:only-of-type {\n",
       "        vertical-align: middle;\n",
       "    }\n",
       "\n",
       "    .dataframe tbody tr th {\n",
       "        vertical-align: top;\n",
       "    }\n",
       "\n",
       "    .dataframe thead th {\n",
       "        text-align: right;\n",
       "    }\n",
       "</style>\n",
       "<table border=\"1\" class=\"dataframe\">\n",
       "  <thead>\n",
       "    <tr style=\"text-align: right;\">\n",
       "      <th></th>\n",
       "      <th>title</th>\n",
       "      <th>selftext</th>\n",
       "      <th>subreddit</th>\n",
       "    </tr>\n",
       "  </thead>\n",
       "  <tbody>\n",
       "    <tr>\n",
       "      <th>0</th>\n",
       "      <td>I got Covid in November and lost my sense of t...</td>\n",
       "      <td>[removed]</td>\n",
       "      <td>Jokes</td>\n",
       "    </tr>\n",
       "    <tr>\n",
       "      <th>1</th>\n",
       "      <td>A well-known professor of language, was caught...</td>\n",
       "      <td>The university decided to take action, seeing ...</td>\n",
       "      <td>Jokes</td>\n",
       "    </tr>\n",
       "    <tr>\n",
       "      <th>2</th>\n",
       "      <td>I'm quite a normal person, I'm very good frien...</td>\n",
       "      <td>I don't know why...</td>\n",
       "      <td>Jokes</td>\n",
       "    </tr>\n",
       "    <tr>\n",
       "      <th>3</th>\n",
       "      <td>How does a gypsy soccer match end?</td>\n",
       "      <td>Without goals.</td>\n",
       "      <td>Jokes</td>\n",
       "    </tr>\n",
       "    <tr>\n",
       "      <th>4</th>\n",
       "      <td>What is Forrest Gump’s password?</td>\n",
       "      <td>[removed]</td>\n",
       "      <td>Jokes</td>\n",
       "    </tr>\n",
       "  </tbody>\n",
       "</table>\n",
       "</div>"
      ],
      "text/plain": [
       "                                               title  \\\n",
       "0  I got Covid in November and lost my sense of t...   \n",
       "1  A well-known professor of language, was caught...   \n",
       "2  I'm quite a normal person, I'm very good frien...   \n",
       "3                 How does a gypsy soccer match end?   \n",
       "4                   What is Forrest Gump’s password?   \n",
       "\n",
       "                                            selftext subreddit  \n",
       "0                                          [removed]     Jokes  \n",
       "1  The university decided to take action, seeing ...     Jokes  \n",
       "2                                I don't know why...     Jokes  \n",
       "3                                     Without goals.     Jokes  \n",
       "4                                          [removed]     Jokes  "
      ]
     },
     "execution_count": 23,
     "metadata": {},
     "output_type": "execute_result"
    }
   ],
   "source": [
    "jokes_df.head()"
   ]
  },
  {
   "cell_type": "code",
   "execution_count": 24,
   "metadata": {
    "ExecuteTime": {
     "end_time": "2021-04-27T20:01:37.569127Z",
     "start_time": "2021-04-27T20:01:37.555243Z"
    }
   },
   "outputs": [],
   "source": [
    "jokes_df = jokes_df[jokes_df['selftext'] != '[removed]']"
   ]
  },
  {
   "cell_type": "code",
   "execution_count": 25,
   "metadata": {
    "ExecuteTime": {
     "end_time": "2021-04-27T20:01:41.431624Z",
     "start_time": "2021-04-27T20:01:41.425672Z"
    }
   },
   "outputs": [
    {
     "data": {
      "text/plain": [
       "(6377, 3)"
      ]
     },
     "execution_count": 25,
     "metadata": {},
     "output_type": "execute_result"
    }
   ],
   "source": [
    "jokes_df.shape"
   ]
  },
  {
   "cell_type": "code",
   "execution_count": 26,
   "metadata": {
    "ExecuteTime": {
     "end_time": "2021-04-27T20:02:06.925142Z",
     "start_time": "2021-04-27T20:02:06.911232Z"
    }
   },
   "outputs": [],
   "source": [
    "jokes_df = jokes_df[jokes_df['title'] != '[removed]']"
   ]
  },
  {
   "cell_type": "code",
   "execution_count": 27,
   "metadata": {
    "ExecuteTime": {
     "end_time": "2021-04-27T20:02:10.190207Z",
     "start_time": "2021-04-27T20:02:10.178267Z"
    }
   },
   "outputs": [
    {
     "data": {
      "text/plain": [
       "(6377, 3)"
      ]
     },
     "execution_count": 27,
     "metadata": {},
     "output_type": "execute_result"
    }
   ],
   "source": [
    "jokes_df.shape"
   ]
  },
  {
   "cell_type": "code",
   "execution_count": 29,
   "metadata": {
    "ExecuteTime": {
     "end_time": "2021-04-27T20:03:13.367806Z",
     "start_time": "2021-04-27T20:03:13.321003Z"
    }
   },
   "outputs": [],
   "source": [
    "jokes_df.to_csv('./data/jokes.csv', index=False)"
   ]
  },
  {
   "cell_type": "code",
   "execution_count": 30,
   "metadata": {
    "ExecuteTime": {
     "end_time": "2021-04-27T20:12:33.308336Z",
     "start_time": "2021-04-27T20:05:51.023235Z"
    }
   },
   "outputs": [
    {
     "name": "stdout",
     "output_type": "stream",
     "text": [
      "97\n",
      "0:00:04.746822\n",
      "193\n",
      "0:00:15.280348\n",
      "291\n",
      "0:00:17.803885\n",
      "383\n",
      "0:00:29.140241\n",
      "480\n",
      "0:00:32.274060\n",
      "492\n",
      "0:00:34.658433\n",
      "588\n",
      "0:00:37.315482\n",
      "683\n",
      "0:00:50.676926\n",
      "776\n",
      "0:01:06.529948\n",
      "872\n",
      "0:01:08.433935\n",
      "968\n",
      "0:01:11.639440\n",
      "968\n",
      "0:01:19.275211\n",
      "968\n",
      "0:01:21.102076\n",
      "1066\n",
      "0:01:23.715954\n",
      "1164\n",
      "0:01:25.691803\n",
      "1259\n",
      "0:01:28.159414\n",
      "1359\n",
      "0:01:37.358294\n",
      "1457\n",
      "0:01:41.907752\n",
      "1555\n",
      "0:01:45.137416\n",
      "1651\n",
      "0:01:54.261188\n",
      "1750\n",
      "0:01:57.530377\n",
      "1848\n",
      "0:01:59.426284\n",
      "1943\n",
      "0:02:02.369687\n",
      "2041\n",
      "0:02:11.765530\n",
      "2136\n",
      "0:02:13.797170\n",
      "2233\n",
      "0:02:15.704619\n",
      "2308\n",
      "0:02:18.460439\n",
      "2404\n",
      "0:02:27.184202\n",
      "2502\n",
      "0:02:31.649277\n",
      "2593\n",
      "0:02:35.884246\n",
      "2684\n",
      "0:02:46.384785\n",
      "2782\n",
      "0:02:48.800434\n",
      "2878\n",
      "0:02:50.946498\n",
      "2972\n",
      "0:02:53.260333\n",
      "3070\n",
      "0:03:02.367743\n",
      "3169\n",
      "0:03:04.216499\n",
      "3263\n",
      "0:03:06.683915\n",
      "3359\n",
      "0:03:09.941636\n",
      "3456\n",
      "0:03:19.988993\n",
      "3553\n",
      "0:03:21.955366\n",
      "3646\n",
      "0:03:23.968352\n",
      "3741\n",
      "0:03:26.002500\n",
      "3838\n",
      "0:03:28.427483\n",
      "3934\n",
      "0:03:37.804249\n",
      "4030\n",
      "0:03:41.112875\n",
      "4126\n",
      "0:03:43.459901\n",
      "4223\n",
      "0:03:53.088105\n",
      "4319\n",
      "0:03:55.156604\n",
      "4415\n",
      "0:03:57.090172\n",
      "4509\n",
      "0:03:59.209655\n",
      "4604\n",
      "0:04:01.348177\n",
      "4699\n",
      "0:04:13.064733\n",
      "4795\n",
      "0:04:15.891026\n",
      "4891\n",
      "0:04:26.645249\n",
      "4986\n",
      "0:04:29.090701\n",
      "5081\n",
      "0:04:31.774881\n",
      "5174\n",
      "0:04:33.941927\n",
      "5268\n",
      "0:04:37.462541\n",
      "5360\n",
      "0:04:46.965547\n",
      "5455\n",
      "0:04:49.286622\n",
      "5549\n",
      "0:04:51.415677\n",
      "5644\n",
      "0:04:53.250729\n",
      "5744\n",
      "0:05:02.722275\n",
      "5838\n",
      "0:05:05.654789\n",
      "5932\n",
      "0:05:08.777148\n",
      "6025\n",
      "0:05:17.872251\n",
      "6123\n",
      "0:05:20.179162\n",
      "6219\n",
      "0:05:22.178257\n",
      "6318\n",
      "0:05:24.801129\n",
      "6413\n",
      "0:05:36.489621\n",
      "6503\n",
      "0:05:40.129292\n",
      "6600\n",
      "0:05:42.881083\n",
      "6695\n",
      "0:05:52.145094\n",
      "6793\n",
      "0:05:54.341163\n",
      "6891\n",
      "0:05:56.992721\n",
      "6989\n",
      "0:05:59.230543\n",
      "7083\n",
      "0:06:10.697366\n",
      "7180\n",
      "0:06:14.341365\n",
      "7277\n",
      "0:06:17.761236\n",
      "7373\n",
      "0:06:26.946700\n",
      "7467\n",
      "0:06:31.250219\n",
      "7562\n",
      "0:06:41.256617\n"
     ]
    }
   ],
   "source": [
    "dadjokes_df = reddit_query('dadjokes')"
   ]
  },
  {
   "cell_type": "code",
   "execution_count": 31,
   "metadata": {
    "ExecuteTime": {
     "end_time": "2021-04-27T20:13:33.960981Z",
     "start_time": "2021-04-27T20:13:33.952029Z"
    }
   },
   "outputs": [],
   "source": [
    "dadjokes_df = dadjokes_df[dadjokes_df['selftext'] != '[removed]']"
   ]
  },
  {
   "cell_type": "code",
   "execution_count": 32,
   "metadata": {
    "ExecuteTime": {
     "end_time": "2021-04-27T20:13:37.215075Z",
     "start_time": "2021-04-27T20:13:37.203143Z"
    }
   },
   "outputs": [
    {
     "data": {
      "text/plain": [
       "(6121, 3)"
      ]
     },
     "execution_count": 32,
     "metadata": {},
     "output_type": "execute_result"
    }
   ],
   "source": [
    "dadjokes_df.shape"
   ]
  },
  {
   "cell_type": "code",
   "execution_count": 33,
   "metadata": {
    "ExecuteTime": {
     "end_time": "2021-04-27T20:13:59.031691Z",
     "start_time": "2021-04-27T20:13:59.025247Z"
    }
   },
   "outputs": [],
   "source": [
    "dadjokes_df = dadjokes_df[dadjokes_df['title'] != '[removed]']"
   ]
  },
  {
   "cell_type": "code",
   "execution_count": 34,
   "metadata": {
    "ExecuteTime": {
     "end_time": "2021-04-27T20:14:02.606132Z",
     "start_time": "2021-04-27T20:14:02.595690Z"
    }
   },
   "outputs": [
    {
     "data": {
      "text/plain": [
       "(6121, 3)"
      ]
     },
     "execution_count": 34,
     "metadata": {},
     "output_type": "execute_result"
    }
   ],
   "source": [
    "dadjokes_df.shape"
   ]
  },
  {
   "cell_type": "markdown",
   "metadata": {},
   "source": [
    "I then concatenated the post title and post body together into a single column. I removed posts containing \"[deleted]\", as these were essentially NaN values. I added a column depicted which subreddit a row belongs to, then combined the DataFrames into one, and saved it as a .csv.\n"
   ]
  },
  {
   "cell_type": "code",
   "execution_count": 35,
   "metadata": {
    "ExecuteTime": {
     "end_time": "2021-04-27T20:14:27.120547Z",
     "start_time": "2021-04-27T20:14:27.098723Z"
    }
   },
   "outputs": [],
   "source": [
    "dadjokes_df.to_csv('./data/dadjokes.csv', index=False)"
   ]
  },
  {
   "cell_type": "code",
   "execution_count": 41,
   "metadata": {
    "ExecuteTime": {
     "end_time": "2021-04-27T20:21:54.546112Z",
     "start_time": "2021-04-27T20:21:54.536203Z"
    }
   },
   "outputs": [
    {
     "data": {
      "text/html": [
       "<div>\n",
       "<style scoped>\n",
       "    .dataframe tbody tr th:only-of-type {\n",
       "        vertical-align: middle;\n",
       "    }\n",
       "\n",
       "    .dataframe tbody tr th {\n",
       "        vertical-align: top;\n",
       "    }\n",
       "\n",
       "    .dataframe thead th {\n",
       "        text-align: right;\n",
       "    }\n",
       "</style>\n",
       "<table border=\"1\" class=\"dataframe\">\n",
       "  <thead>\n",
       "    <tr style=\"text-align: right;\">\n",
       "      <th></th>\n",
       "      <th>title</th>\n",
       "      <th>selftext</th>\n",
       "      <th>subreddit</th>\n",
       "    </tr>\n",
       "  </thead>\n",
       "  <tbody>\n",
       "    <tr>\n",
       "      <th>0</th>\n",
       "      <td>You can never run through a camp site!</td>\n",
       "      <td>You can only ran...cause it's past tents</td>\n",
       "      <td>dadjokes</td>\n",
       "    </tr>\n",
       "    <tr>\n",
       "      <th>1</th>\n",
       "      <td>I invested in a fertility clinic....</td>\n",
       "      <td>Heard the business was expanding</td>\n",
       "      <td>dadjokes</td>\n",
       "    </tr>\n",
       "    <tr>\n",
       "      <th>2</th>\n",
       "      <td>Did you know ancient Egyptian houses didn’t ha...</td>\n",
       "      <td>Instead they had a horn and a sign saying “Too...</td>\n",
       "      <td>dadjokes</td>\n",
       "    </tr>\n",
       "    <tr>\n",
       "      <th>3</th>\n",
       "      <td>I just planted a new tree in my back yard. It’...</td>\n",
       "      <td>You might say it’s starting to branch out.</td>\n",
       "      <td>dadjokes</td>\n",
       "    </tr>\n",
       "    <tr>\n",
       "      <th>4</th>\n",
       "      <td>What’s J-Lo’s favorite race?</td>\n",
       "      <td>Iditarod \\n\\n(I did A-Rod)</td>\n",
       "      <td>dadjokes</td>\n",
       "    </tr>\n",
       "  </tbody>\n",
       "</table>\n",
       "</div>"
      ],
      "text/plain": [
       "                                               title  \\\n",
       "0             You can never run through a camp site!   \n",
       "1               I invested in a fertility clinic....   \n",
       "2  Did you know ancient Egyptian houses didn’t ha...   \n",
       "3  I just planted a new tree in my back yard. It’...   \n",
       "4                       What’s J-Lo’s favorite race?   \n",
       "\n",
       "                                            selftext subreddit  \n",
       "0           You can only ran...cause it's past tents  dadjokes  \n",
       "1                   Heard the business was expanding  dadjokes  \n",
       "2  Instead they had a horn and a sign saying “Too...  dadjokes  \n",
       "3         You might say it’s starting to branch out.  dadjokes  \n",
       "4                         Iditarod \\n\\n(I did A-Rod)  dadjokes  "
      ]
     },
     "execution_count": 41,
     "metadata": {},
     "output_type": "execute_result"
    }
   ],
   "source": [
    "dadjokes_df.head()"
   ]
  },
  {
   "cell_type": "code",
   "execution_count": 42,
   "metadata": {
    "ExecuteTime": {
     "end_time": "2021-04-27T20:22:16.236570Z",
     "start_time": "2021-04-27T20:22:16.219235Z"
    }
   },
   "outputs": [],
   "source": [
    "full = pd.concat([jokes_df, dadjokes_df])"
   ]
  },
  {
   "cell_type": "code",
   "execution_count": 44,
   "metadata": {
    "ExecuteTime": {
     "end_time": "2021-04-27T20:22:31.984388Z",
     "start_time": "2021-04-27T20:22:31.965540Z"
    }
   },
   "outputs": [
    {
     "data": {
      "text/html": [
       "<div>\n",
       "<style scoped>\n",
       "    .dataframe tbody tr th:only-of-type {\n",
       "        vertical-align: middle;\n",
       "    }\n",
       "\n",
       "    .dataframe tbody tr th {\n",
       "        vertical-align: top;\n",
       "    }\n",
       "\n",
       "    .dataframe thead th {\n",
       "        text-align: right;\n",
       "    }\n",
       "</style>\n",
       "<table border=\"1\" class=\"dataframe\">\n",
       "  <thead>\n",
       "    <tr style=\"text-align: right;\">\n",
       "      <th></th>\n",
       "      <th>title</th>\n",
       "      <th>selftext</th>\n",
       "      <th>subreddit</th>\n",
       "    </tr>\n",
       "  </thead>\n",
       "  <tbody>\n",
       "    <tr>\n",
       "      <th>7554</th>\n",
       "      <td>Have you guys heard about Cole's law?</td>\n",
       "      <td>It is thinly sliced cabbage</td>\n",
       "      <td>dadjokes</td>\n",
       "    </tr>\n",
       "    <tr>\n",
       "      <th>7555</th>\n",
       "      <td>What do you call a walking toilet?</td>\n",
       "      <td>A Portabloo</td>\n",
       "      <td>dadjokes</td>\n",
       "    </tr>\n",
       "    <tr>\n",
       "      <th>7556</th>\n",
       "      <td>How do you attract a squrrel</td>\n",
       "      <td>Climb like a tree and act like a nut</td>\n",
       "      <td>dadjokes</td>\n",
       "    </tr>\n",
       "    <tr>\n",
       "      <th>7559</th>\n",
       "      <td>I used to like tractors...</td>\n",
       "      <td>Now I prefer air conditioning. \\n\\nYou could s...</td>\n",
       "      <td>dadjokes</td>\n",
       "    </tr>\n",
       "    <tr>\n",
       "      <th>7561</th>\n",
       "      <td>Hydrogen: Helium, how do I become like you?</td>\n",
       "      <td>Helium: Be noble.</td>\n",
       "      <td>dadjokes</td>\n",
       "    </tr>\n",
       "  </tbody>\n",
       "</table>\n",
       "</div>"
      ],
      "text/plain": [
       "                                            title  \\\n",
       "7554        Have you guys heard about Cole's law?   \n",
       "7555           What do you call a walking toilet?   \n",
       "7556                 How do you attract a squrrel   \n",
       "7559                   I used to like tractors...   \n",
       "7561  Hydrogen: Helium, how do I become like you?   \n",
       "\n",
       "                                               selftext subreddit  \n",
       "7554                        It is thinly sliced cabbage  dadjokes  \n",
       "7555                                        A Portabloo  dadjokes  \n",
       "7556               Climb like a tree and act like a nut  dadjokes  \n",
       "7559  Now I prefer air conditioning. \\n\\nYou could s...  dadjokes  \n",
       "7561                                  Helium: Be noble.  dadjokes  "
      ]
     },
     "execution_count": 44,
     "metadata": {},
     "output_type": "execute_result"
    }
   ],
   "source": [
    "full.tail()"
   ]
  },
  {
   "cell_type": "code",
   "execution_count": 45,
   "metadata": {
    "ExecuteTime": {
     "end_time": "2021-04-27T20:22:37.944691Z",
     "start_time": "2021-04-27T20:22:37.934771Z"
    }
   },
   "outputs": [
    {
     "data": {
      "text/plain": [
       "(12498, 3)"
      ]
     },
     "execution_count": 45,
     "metadata": {},
     "output_type": "execute_result"
    }
   ],
   "source": [
    "full.shape"
   ]
  },
  {
   "cell_type": "code",
   "execution_count": 47,
   "metadata": {
    "ExecuteTime": {
     "end_time": "2021-04-27T22:27:36.792462Z",
     "start_time": "2021-04-27T22:27:36.770167Z"
    }
   },
   "outputs": [],
   "source": [
    "full['post'] = full.title + ' ' + full.selftext"
   ]
  },
  {
   "cell_type": "code",
   "execution_count": 49,
   "metadata": {
    "ExecuteTime": {
     "end_time": "2021-04-27T22:28:09.823514Z",
     "start_time": "2021-04-27T22:28:09.810618Z"
    }
   },
   "outputs": [],
   "source": [
    "full = full[['post', 'subreddit']]"
   ]
  },
  {
   "cell_type": "code",
   "execution_count": 51,
   "metadata": {
    "ExecuteTime": {
     "end_time": "2021-04-27T22:29:29.087284Z",
     "start_time": "2021-04-27T22:29:29.068462Z"
    }
   },
   "outputs": [
    {
     "name": "stderr",
     "output_type": "stream",
     "text": [
      "C:\\Users\\c24th\\anaconda3\\lib\\site-packages\\pandas\\core\\generic.py:5494: SettingWithCopyWarning: \n",
      "A value is trying to be set on a copy of a slice from a DataFrame.\n",
      "Try using .loc[row_indexer,col_indexer] = value instead\n",
      "\n",
      "See the caveats in the documentation: https://pandas.pydata.org/pandas-docs/stable/user_guide/indexing.html#returning-a-view-versus-a-copy\n",
      "  self[name] = value\n",
      "C:\\Users\\c24th\\anaconda3\\lib\\site-packages\\pandas\\core\\frame.py:4441: SettingWithCopyWarning: \n",
      "A value is trying to be set on a copy of a slice from a DataFrame\n",
      "\n",
      "See the caveats in the documentation: https://pandas.pydata.org/pandas-docs/stable/user_guide/indexing.html#returning-a-view-versus-a-copy\n",
      "  return super().rename(\n"
     ]
    }
   ],
   "source": [
    "full.subreddit = full.subreddit.map(lambda x: 1 if x == 'Jokes' else 0)\n",
    "full.rename(columns={'subreddit': 'is_jokes'}, inplace=True)"
   ]
  },
  {
   "cell_type": "code",
   "execution_count": 52,
   "metadata": {
    "ExecuteTime": {
     "end_time": "2021-04-27T22:29:30.517328Z",
     "start_time": "2021-04-27T22:29:30.502448Z"
    }
   },
   "outputs": [
    {
     "data": {
      "text/html": [
       "<div>\n",
       "<style scoped>\n",
       "    .dataframe tbody tr th:only-of-type {\n",
       "        vertical-align: middle;\n",
       "    }\n",
       "\n",
       "    .dataframe tbody tr th {\n",
       "        vertical-align: top;\n",
       "    }\n",
       "\n",
       "    .dataframe thead th {\n",
       "        text-align: right;\n",
       "    }\n",
       "</style>\n",
       "<table border=\"1\" class=\"dataframe\">\n",
       "  <thead>\n",
       "    <tr style=\"text-align: right;\">\n",
       "      <th></th>\n",
       "      <th>post</th>\n",
       "      <th>is_jokes</th>\n",
       "    </tr>\n",
       "  </thead>\n",
       "  <tbody>\n",
       "    <tr>\n",
       "      <th>1</th>\n",
       "      <td>A well-known professor of language, was caught...</td>\n",
       "      <td>1</td>\n",
       "    </tr>\n",
       "    <tr>\n",
       "      <th>2</th>\n",
       "      <td>I'm quite a normal person, I'm very good frien...</td>\n",
       "      <td>1</td>\n",
       "    </tr>\n",
       "    <tr>\n",
       "      <th>3</th>\n",
       "      <td>How does a gypsy soccer match end? Without goals.</td>\n",
       "      <td>1</td>\n",
       "    </tr>\n",
       "    <tr>\n",
       "      <th>5</th>\n",
       "      <td>A granddaughters questions The first time our ...</td>\n",
       "      <td>1</td>\n",
       "    </tr>\n",
       "    <tr>\n",
       "      <th>7</th>\n",
       "      <td>What did the loaf of sourdough bread day to th...</td>\n",
       "      <td>1</td>\n",
       "    </tr>\n",
       "  </tbody>\n",
       "</table>\n",
       "</div>"
      ],
      "text/plain": [
       "                                                post  is_jokes\n",
       "1  A well-known professor of language, was caught...         1\n",
       "2  I'm quite a normal person, I'm very good frien...         1\n",
       "3  How does a gypsy soccer match end? Without goals.         1\n",
       "5  A granddaughters questions The first time our ...         1\n",
       "7  What did the loaf of sourdough bread day to th...         1"
      ]
     },
     "execution_count": 52,
     "metadata": {},
     "output_type": "execute_result"
    }
   ],
   "source": [
    "full.head()"
   ]
  },
  {
   "cell_type": "code",
   "execution_count": 53,
   "metadata": {
    "ExecuteTime": {
     "end_time": "2021-04-27T22:29:45.734277Z",
     "start_time": "2021-04-27T22:29:45.682760Z"
    }
   },
   "outputs": [],
   "source": [
    "full.to_csv('./data/full.csv', index=False)"
   ]
  },
  {
   "cell_type": "code",
   "execution_count": null,
   "metadata": {},
   "outputs": [],
   "source": []
  }
 ],
 "metadata": {
  "kernelspec": {
   "display_name": "Python 3",
   "language": "python",
   "name": "python3"
  },
  "language_info": {
   "codemirror_mode": {
    "name": "ipython",
    "version": 3
   },
   "file_extension": ".py",
   "mimetype": "text/x-python",
   "name": "python",
   "nbconvert_exporter": "python",
   "pygments_lexer": "ipython3",
   "version": "3.8.5"
  },
  "toc": {
   "base_numbering": 1,
   "nav_menu": {},
   "number_sections": true,
   "sideBar": true,
   "skip_h1_title": false,
   "title_cell": "Table of Contents",
   "title_sidebar": "Contents",
   "toc_cell": false,
   "toc_position": {},
   "toc_section_display": true,
   "toc_window_display": false
  },
  "varInspector": {
   "cols": {
    "lenName": 16,
    "lenType": 16,
    "lenVar": 40
   },
   "kernels_config": {
    "python": {
     "delete_cmd_postfix": "",
     "delete_cmd_prefix": "del ",
     "library": "var_list.py",
     "varRefreshCmd": "print(var_dic_list())"
    },
    "r": {
     "delete_cmd_postfix": ") ",
     "delete_cmd_prefix": "rm(",
     "library": "var_list.r",
     "varRefreshCmd": "cat(var_dic_list()) "
    }
   },
   "types_to_exclude": [
    "module",
    "function",
    "builtin_function_or_method",
    "instance",
    "_Feature"
   ],
   "window_display": false
  }
 },
 "nbformat": 4,
 "nbformat_minor": 4
}
